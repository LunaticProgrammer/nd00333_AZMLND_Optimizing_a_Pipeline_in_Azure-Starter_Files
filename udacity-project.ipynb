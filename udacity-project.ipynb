{
  "cells": [
    {
      "cell_type": "code",
      "source": [
        "from azureml.core import Workspace, Experiment\n",
        "\n",
        "ws = Workspace.get(name=\"quick-starts-ws-128142\")\n",
        "exp = Experiment(workspace=ws, name=\"quick-starts-ws-128142\")\n",
        "\n",
        "print('Workspace name: ' + ws.name, \n",
        "      'Azure region: ' + ws.location, \n",
        "      'Subscription id: ' + ws.subscription_id, \n",
        "      'Resource group: ' + ws.resource_group, sep = '\\n')\n",
        "\n",
        "run = exp.start_logging()"
      ],
      "outputs": [
        {
          "output_type": "error",
          "ename": "ModuleNotFoundError",
          "evalue": "No module named 'azureml'",
          "traceback": [
            "\u001b[1;31m---------------------------------------------------------------------------\u001b[0m",
            "\u001b[1;31mModuleNotFoundError\u001b[0m                       Traceback (most recent call last)",
            "\u001b[1;32m<ipython-input-2-ce921efcde32>\u001b[0m in \u001b[0;36m<module>\u001b[1;34m\u001b[0m\n\u001b[1;32m----> 1\u001b[1;33m \u001b[1;32mfrom\u001b[0m \u001b[0mazureml\u001b[0m\u001b[1;33m.\u001b[0m\u001b[0mcore\u001b[0m \u001b[1;32mimport\u001b[0m \u001b[0mWorkspace\u001b[0m\u001b[1;33m,\u001b[0m \u001b[0mExperiment\u001b[0m\u001b[1;33m\u001b[0m\u001b[1;33m\u001b[0m\u001b[0m\n\u001b[0m\u001b[0;32m      2\u001b[0m \u001b[1;33m\u001b[0m\u001b[0m\n\u001b[0;32m      3\u001b[0m \u001b[0mws\u001b[0m \u001b[1;33m=\u001b[0m \u001b[0mWorkspace\u001b[0m\u001b[1;33m.\u001b[0m\u001b[0mget\u001b[0m\u001b[1;33m(\u001b[0m\u001b[0mname\u001b[0m\u001b[1;33m=\u001b[0m\u001b[1;34m\"quick-starts-ws-128142\"\u001b[0m\u001b[1;33m)\u001b[0m\u001b[1;33m\u001b[0m\u001b[1;33m\u001b[0m\u001b[0m\n\u001b[0;32m      4\u001b[0m \u001b[0mexp\u001b[0m \u001b[1;33m=\u001b[0m \u001b[0mExperiment\u001b[0m\u001b[1;33m(\u001b[0m\u001b[0mworkspace\u001b[0m\u001b[1;33m=\u001b[0m\u001b[0mws\u001b[0m\u001b[1;33m,\u001b[0m \u001b[0mname\u001b[0m\u001b[1;33m=\u001b[0m\u001b[1;34m\"quick-starts-ws-128142\"\u001b[0m\u001b[1;33m)\u001b[0m\u001b[1;33m\u001b[0m\u001b[1;33m\u001b[0m\u001b[0m\n\u001b[0;32m      5\u001b[0m \u001b[1;33m\u001b[0m\u001b[0m\n",
            "\u001b[1;31mModuleNotFoundError\u001b[0m: No module named 'azureml'"
          ]
        }
      ],
      "execution_count": 2,
      "metadata": {
        "gather": {
          "logged": 1606332513298
        }
      }
    },
    {
      "cell_type": "code",
      "source": [
        "from azureml.core.compute import ComputeTarget, AmlCompute\n",
        "\n",
        "# TODO: Create compute cluster\n",
        "# Use vm_size = \"Standard_D2_V2\" in your provisioning configuration.\n",
        "# max_nodes should be no greater than 4.\n",
        "\n",
        "### YOUR CODE HERE ###\n",
        "from azureml.core.compute_target import ComputeTargetException\n",
        "\n",
        "   # Choose a name for your CPU cluster\n",
        "cpu_cluster_name = \"cpu-cluster\"\n",
        "\n",
        "   # Verify that cluster does not exist already\n",
        "try:\n",
        "    cpu_cluster = ComputeTarget(workspace=ws, name=cpu_cluster_name)\n",
        "    print('Found existing cluster, use it.')\n",
        "except ComputeTargetException:\n",
        "    compute_config = AmlCompute.provisioning_configuration(vm_size='STANDARD_D2_V2',\n",
        "                                                              max_nodes=4)\n",
        "    cpu_cluster = ComputeTarget.create(ws, cpu_cluster_name, compute_config)\n",
        "\n",
        "cpu_cluster.wait_for_completion(show_output=True)"
      ],
      "outputs": [
        {
          "output_type": "stream",
          "name": "stdout",
          "text": [
            "Found existing cluster, use it.\n",
            "\n",
            "Running\n"
          ]
        }
      ],
      "execution_count": 2,
      "metadata": {
        "collapsed": false,
        "gather": {
          "logged": 1606333263325
        },
        "jupyter": {
          "outputs_hidden": false,
          "source_hidden": false
        },
        "nteract": {
          "transient": {
            "deleting": false
          }
        }
      }
    },
    {
      "cell_type": "code",
      "source": [
        "from azureml.widgets import RunDetails\n",
        "from azureml.train.sklearn import SKLearn\n",
        "from azureml.train.hyperdrive.run import PrimaryMetricGoal\n",
        "from azureml.train.hyperdrive.policy import BanditPolicy\n",
        "from azureml.train.hyperdrive.sampling import RandomParameterSampling\n",
        "from azureml.train.hyperdrive.runconfig import HyperDriveConfig\n",
        "from azureml.train.hyperdrive.parameter_expressions import uniform,loguniform,choice\n",
        "import os\n",
        "\n",
        "# Specify parameter sampler\n",
        "ps = RandomParameterSampling({\n",
        "    \"--C\": choice(0.5,1,1.5),\n",
        "    \"--max_iter\":choice(100,150,125)\n",
        "})\n",
        "\n",
        "# Specify a Policy\n",
        "policy = BanditPolicy(slack_factor=0.1,evaluation_interval=1,delay_evaluation=5)\n",
        "\n",
        "if \"training\" not in os.listdir():\n",
        "    os.mkdir(\"./training\")\n",
        "\n",
        "# Create a SKLearn estimator for use with train.py\n",
        "est = SKLearn(\n",
        "            source_directory = \".\",\n",
        "            compute_target = cpu_cluster_name,\n",
        "            entry_script='train.py',\n",
        "        )\n",
        "\n",
        "# Create a HyperDriveConfig using the estimator, hyperparameter sampler, and policy.\n",
        "hyperdrive_config = HyperDriveConfig(\n",
        "                        estimator=est,\n",
        "                        hyperparameter_sampling=ps,\n",
        "                        policy=policy,\n",
        "                        primary_metric_name=\"Accuracy\",\n",
        "                        primary_metric_goal=PrimaryMetricGoal.MAXIMIZE,\n",
        "                        max_total_runs=10,\n",
        "                        max_concurrent_runs=4\n",
        "                    )"
      ],
      "outputs": [],
      "execution_count": 8,
      "metadata": {
        "collapsed": false,
        "gather": {
          "logged": 1606335328619
        },
        "jupyter": {
          "outputs_hidden": false,
          "source_hidden": false
        },
        "nteract": {
          "transient": {
            "deleting": false
          }
        }
      }
    },
    {
      "cell_type": "code",
      "source": [
        "# Submit your hyperdrive run to the experiment and show run details with the widget.\n",
        "experiment = Experiment(workspace=ws,name=\"hyperdrive_experiment\")\n",
        "hyper_run = experiment.submit(hyperdrive_config)\n",
        "### YOUR CODE HERE ###"
      ],
      "outputs": [
        {
          "output_type": "stream",
          "name": "stderr",
          "text": [
            "WARNING - If 'script' has been provided here and a script file name has been specified in 'run_config', 'script' provided in ScriptRunConfig initialization will take precedence.\n"
          ]
        }
      ],
      "execution_count": 7,
      "metadata": {
        "gather": {
          "logged": 1605465755224
        }
      }
    },
    {
      "cell_type": "code",
      "execution_count": null,
      "metadata": {},
      "outputs": [],
      "source": [
        "RunDetails(hyper_run).show()"
      ]
    },
    {
      "cell_type": "code",
      "source": [
        "import joblib\n",
        "# Get your best run and save the model from that run.\n",
        "best_run = hyper_run.get_best_run_by_primary_metric().get_metrics()\n",
        "joblib.dump(best_run,'best_run_hyperdrive')\n",
        "### YOUR CODE HERE ###"
      ],
      "outputs": [
        {
          "output_type": "execute_result",
          "execution_count": 14,
          "data": {
            "text/plain": "['best_run_hyperdrive']"
          },
          "metadata": {}
        }
      ],
      "execution_count": 14,
      "metadata": {
        "collapsed": false,
        "gather": {
          "logged": 1605812589509
        },
        "jupyter": {
          "outputs_hidden": false,
          "source_hidden": false
        },
        "nteract": {
          "transient": {
            "deleting": false
          }
        }
      }
    },
    {
      "cell_type": "code",
      "source": [
        "from azureml.data.dataset_factory import TabularDatasetFactory\n",
        "\n",
        "# Create TabularDataset using TabularDatasetFactory\n",
        "# Data is available at: \n",
        "# \"https://automlsamplenotebookdata.blob.core.windows.net/automl-sample-notebook-data/bankmarketing_train.csv\"\n",
        "\n",
        "automlds = TabularDatasetFactory.from_delimited_files(\"https://automlsamplenotebookdata.blob.core.windows.net/automl-sample-notebook-data/bankmarketing_train.csv\")\n",
        "ds = automlds.to_pandas_dataframe()\n",
        "print(ds)\n",
        "### YOUR CODE HERE ###"
      ],
      "outputs": [
        {
          "output_type": "stream",
          "name": "stdout",
          "text": [
            "       age          job  marital          education  default housing loan  \\\n",
            "0       57   technician  married        high.school       no      no  yes   \n",
            "1       55      unknown  married            unknown  unknown     yes   no   \n",
            "2       33  blue-collar  married           basic.9y       no      no   no   \n",
            "3       36       admin.  married        high.school       no      no   no   \n",
            "4       27    housemaid  married        high.school       no     yes   no   \n",
            "...    ...          ...      ...                ...      ...     ...  ...   \n",
            "32945   56    housemaid  married           basic.4y       no      no  yes   \n",
            "32946   37   management  married  university.degree       no      no  yes   \n",
            "32947   26       admin.   single  university.degree       no      no   no   \n",
            "32948   31  blue-collar   single           basic.9y       no      no   no   \n",
            "32949   39    housemaid  married           basic.4y       no      no   no   \n",
            "\n",
            "         contact month day_of_week  ...  campaign  pdays  previous  \\\n",
            "0       cellular   may         mon  ...         1    999         1   \n",
            "1      telephone   may         thu  ...         2    999         0   \n",
            "2       cellular   may         fri  ...         1    999         1   \n",
            "3      telephone   jun         fri  ...         4    999         0   \n",
            "4       cellular   jul         fri  ...         2    999         0   \n",
            "...          ...   ...         ...  ...       ...    ...       ...   \n",
            "32945   cellular   jul         mon  ...         1    999         0   \n",
            "32946   cellular   jul         fri  ...         7    999         0   \n",
            "32947   cellular   may         tue  ...         4    999         1   \n",
            "32948   cellular   apr         mon  ...         1    999         0   \n",
            "32949   cellular   aug         thu  ...         1    999         0   \n",
            "\n",
            "          poutcome emp.var.rate  cons.price.idx  cons.conf.idx  euribor3m  \\\n",
            "0          failure         -1.8          92.893          -46.2      1.299   \n",
            "1      nonexistent          1.1          93.994          -36.4      4.860   \n",
            "2          failure         -1.8          92.893          -46.2      1.313   \n",
            "3      nonexistent          1.4          94.465          -41.8      4.967   \n",
            "4      nonexistent          1.4          93.918          -42.7      4.963   \n",
            "...            ...          ...             ...            ...        ...   \n",
            "32945  nonexistent          1.4          93.918          -42.7      4.960   \n",
            "32946  nonexistent          1.4          93.918          -42.7      4.957   \n",
            "32947      failure         -1.8          92.893          -46.2      1.266   \n",
            "32948  nonexistent         -1.8          93.075          -47.1      1.405   \n",
            "32949  nonexistent          1.4          93.444          -36.1      4.963   \n",
            "\n",
            "       nr.employed   y  \n",
            "0           5099.1  no  \n",
            "1           5191.0  no  \n",
            "2           5099.1  no  \n",
            "3           5228.1  no  \n",
            "4           5228.1  no  \n",
            "...            ...  ..  \n",
            "32945       5228.1  no  \n",
            "32946       5228.1  no  \n",
            "32947       5099.1  no  \n",
            "32948       5099.1  no  \n",
            "32949       5228.1  no  \n",
            "\n",
            "[32950 rows x 21 columns]\n"
          ]
        }
      ],
      "execution_count": 3,
      "metadata": {
        "gather": {
          "logged": 1606333366133
        }
      }
    },
    {
      "cell_type": "code",
      "source": [
        "from train import clean_data\n",
        "from sklearn.model_selection import train_test_split\n",
        "import pandas as pd\n",
        "\n",
        "# Use the clean_data function to clean your data."
      ],
      "outputs": [],
      "execution_count": 4,
      "metadata": {
        "collapsed": false,
        "gather": {
          "logged": 1606333376490
        },
        "jupyter": {
          "outputs_hidden": false,
          "source_hidden": false
        },
        "nteract": {
          "transient": {
            "deleting": false
          }
        }
      }
    },
    {
      "cell_type": "code",
      "source": [
        "from azureml.train.automl import AutoMLConfig\n",
        "\n",
        "# Set parameters for AutoMLConfig\n",
        "# NOTE: DO NOT CHANGE THE experiment_timeout_minutes PARAMETER OR YOUR INSTANCE WILL TIME OUT.\n",
        "# If you wish to run the experiment longer, you will need to run this notebook in your own\n",
        "# Azure tenant, which will incur personal costs.\n",
        "automl_config = AutoMLConfig(\n",
        "    experiment_timeout_minutes=20,\n",
        "    task='classification',\n",
        "    enable_onnx_compatible_models=True,\n",
        "    primary_metric='accuracy',\n",
        "    training_data=ds,\n",
        "    label_column_name=\"y\",\n",
        "    n_cross_validations=4)"
      ],
      "outputs": [],
      "execution_count": 5,
      "metadata": {
        "collapsed": false,
        "gather": {
          "logged": 1606333379064
        },
        "jupyter": {
          "outputs_hidden": false,
          "source_hidden": false
        },
        "nteract": {
          "transient": {
            "deleting": false
          }
        }
      }
    },
    {
      "cell_type": "code",
      "source": [
        "# Submit your automl run\n",
        "experiment = Experiment(workspace=ws,name=\"automl-run\")\n",
        "automl_run = experiment.submit(automl_config)\n",
        "### YOUR CODE HERE ###"
      ],
      "outputs": [
        {
          "output_type": "stream",
          "name": "stderr",
          "text": [
            "WARNING - Running on local machine. Note that local runs always run synchronously even if you use the parameter 'show_output=False'\n"
          ]
        }
      ],
      "execution_count": 6,
      "metadata": {
        "collapsed": false,
        "jupyter": {
          "outputs_hidden": false,
          "source_hidden": false
        },
        "nteract": {
          "transient": {
            "deleting": false
          }
        },
        "gather": {
          "logged": 1606334827784
        }
      }
    },
    {
      "cell_type": "code",
      "source": [
        "# Retrieve and save your best automl model.\n",
        "best_run, fitted_model = automl_run.get_output(return_onnx_model=True)\n",
        "RunDetails(automl_run).show()\n",
        "### YOUR CODE HERE ###"
      ],
      "outputs": [
        {
          "output_type": "display_data",
          "data": {
            "text/plain": "_AutoMLWidget(widget_settings={'childWidgetDisplay': 'popup', 'send_telemetry': False, 'log_level': 'INFO', 's…",
            "application/vnd.jupyter.widget-view+json": {
              "version_major": 2,
              "version_minor": 0,
              "model_id": "b4a49f79ff52441faf7e36d7d0ea0f4c"
            }
          },
          "metadata": {}
        },
        {
          "output_type": "display_data",
          "data": {
            "application/aml.mini.widget.v1": "{\"status\": \"Completed\", \"workbench_run_details_uri\": \"https://ml.azure.com/experiments/automl-run/runs/AutoML_46c483d1-9fd0-4507-9bd1-daba873a4996?wsid=/subscriptions/ebee3a56-4c54-406a-b732-174015826780/resourcegroups/aml-quickstarts-127901/workspaces/quick-starts-ws-127901\", \"run_id\": \"AutoML_46c483d1-9fd0-4507-9bd1-daba873a4996\", \"run_properties\": {\"run_id\": \"AutoML_46c483d1-9fd0-4507-9bd1-daba873a4996\", \"created_utc\": \"2020-11-25T19:43:46.399604Z\", \"properties\": {\"num_iterations\": \"1000\", \"training_type\": \"TrainFull\", \"acquisition_function\": \"EI\", \"primary_metric\": \"accuracy\", \"train_split\": \"0\", \"acquisition_parameter\": \"0\", \"num_cross_validation\": \"4\", \"target\": \"local\", \"AMLSettingsJsonString\": \"{\\\"path\\\":null,\\\"name\\\":\\\"automl-run\\\",\\\"subscription_id\\\":\\\"ebee3a56-4c54-406a-b732-174015826780\\\",\\\"resource_group\\\":\\\"aml-quickstarts-127901\\\",\\\"workspace_name\\\":\\\"quick-starts-ws-127901\\\",\\\"region\\\":\\\"southcentralus\\\",\\\"compute_target\\\":\\\"local\\\",\\\"spark_service\\\":null,\\\"azure_service\\\":\\\"Microsoft.AzureNotebookVM\\\",\\\"_local_managed_run_id\\\":null,\\\"many_models\\\":false,\\\"pipeline_fetch_max_batch_size\\\":1,\\\"iterations\\\":1000,\\\"primary_metric\\\":\\\"accuracy\\\",\\\"task_type\\\":\\\"classification\\\",\\\"data_script\\\":null,\\\"validation_size\\\":0.0,\\\"n_cross_validations\\\":4,\\\"y_min\\\":null,\\\"y_max\\\":null,\\\"num_classes\\\":2,\\\"featurization\\\":\\\"auto\\\",\\\"_ignore_package_version_incompatibilities\\\":false,\\\"is_timeseries\\\":false,\\\"max_cores_per_iteration\\\":1,\\\"max_concurrent_iterations\\\":1,\\\"iteration_timeout_minutes\\\":null,\\\"mem_in_mb\\\":null,\\\"enforce_time_on_windows\\\":false,\\\"experiment_timeout_minutes\\\":20,\\\"experiment_exit_score\\\":null,\\\"whitelist_models\\\":null,\\\"blacklist_algos\\\":[\\\"TensorFlowLinearClassifier\\\",\\\"TensorFlowDNN\\\"],\\\"supported_models\\\":[\\\"LogisticRegression\\\",\\\"MultinomialNaiveBayes\\\",\\\"DecisionTree\\\",\\\"BernoulliNaiveBayes\\\",\\\"XGBoostClassifier\\\",\\\"AveragedPerceptronClassifier\\\",\\\"ExtremeRandomTrees\\\",\\\"LightGBM\\\",\\\"LinearSVM\\\",\\\"TensorFlowLinearClassifier\\\",\\\"SVM\\\",\\\"TensorFlowDNN\\\",\\\"KNN\\\",\\\"SGD\\\",\\\"GradientBoosting\\\",\\\"RandomForest\\\"],\\\"auto_blacklist\\\":true,\\\"blacklist_samples_reached\\\":false,\\\"exclude_nan_labels\\\":true,\\\"verbosity\\\":20,\\\"_debug_log\\\":\\\"automl.log\\\",\\\"show_warnings\\\":false,\\\"model_explainability\\\":true,\\\"service_url\\\":null,\\\"sdk_url\\\":null,\\\"sdk_packages\\\":null,\\\"enable_onnx_compatible_models\\\":true,\\\"enable_split_onnx_featurizer_estimator_models\\\":false,\\\"vm_type\\\":null,\\\"telemetry_verbosity\\\":20,\\\"send_telemetry\\\":true,\\\"enable_dnn\\\":false,\\\"scenario\\\":\\\"SDK-1.13.0\\\",\\\"environment_label\\\":null,\\\"force_text_dnn\\\":false,\\\"enable_feature_sweeping\\\":false,\\\"enable_early_stopping\\\":false,\\\"early_stopping_n_iters\\\":10,\\\"metrics\\\":null,\\\"enable_ensembling\\\":true,\\\"enable_stack_ensembling\\\":false,\\\"ensemble_iterations\\\":15,\\\"enable_tf\\\":false,\\\"enable_subsampling\\\":null,\\\"subsample_seed\\\":null,\\\"enable_nimbusml\\\":false,\\\"enable_streaming\\\":false,\\\"force_streaming\\\":false,\\\"track_child_runs\\\":true,\\\"allowed_private_models\\\":[],\\\"label_column_name\\\":\\\"y\\\",\\\"weight_column_name\\\":null,\\\"cv_split_column_names\\\":null,\\\"enable_local_managed\\\":false,\\\"cost_mode\\\":1,\\\"lag_length\\\":0,\\\"metric_operation\\\":\\\"maximize\\\",\\\"preprocess\\\":true}\", \"DataPrepJsonString\": null, \"EnableSubsampling\": null, \"runTemplate\": \"AutoML\", \"azureml.runsource\": \"automl\", \"display_task_type\": \"classification\", \"dependencies_versions\": \"{\\\"azureml-widgets\\\": \\\"1.18.0\\\", \\\"azureml-train\\\": \\\"1.18.0\\\", \\\"azureml-train-restclients-hyperdrive\\\": \\\"1.18.0\\\", \\\"azureml-train-core\\\": \\\"1.18.0\\\", \\\"azureml-train-automl\\\": \\\"1.18.0\\\", \\\"azureml-train-automl-runtime\\\": \\\"1.18.0\\\", \\\"azureml-train-automl-client\\\": \\\"1.18.0\\\", \\\"azureml-tensorboard\\\": \\\"1.18.0\\\", \\\"azureml-telemetry\\\": \\\"1.18.0\\\", \\\"azureml-sdk\\\": \\\"1.18.0\\\", \\\"azureml-samples\\\": \\\"0+unknown\\\", \\\"azureml-pipeline\\\": \\\"1.18.0\\\", \\\"azureml-pipeline-steps\\\": \\\"1.18.0\\\", \\\"azureml-pipeline-core\\\": \\\"1.18.0\\\", \\\"azureml-opendatasets\\\": \\\"1.18.0\\\", \\\"azureml-model-management-sdk\\\": \\\"1.0.1b6.post1\\\", \\\"azureml-mlflow\\\": \\\"1.18.0\\\", \\\"azureml-interpret\\\": \\\"1.18.0\\\", \\\"azureml-explain-model\\\": \\\"1.18.0\\\", \\\"azureml-defaults\\\": \\\"1.18.0\\\", \\\"azureml-dataset-runtime\\\": \\\"1.18.0\\\", \\\"azureml-dataprep\\\": \\\"2.4.2\\\", \\\"azureml-dataprep-rslex\\\": \\\"1.2.2\\\", \\\"azureml-dataprep-native\\\": \\\"24.0.0\\\", \\\"azureml-datadrift\\\": \\\"1.18.0\\\", \\\"azureml-core\\\": \\\"1.18.0\\\", \\\"azureml-contrib-services\\\": \\\"1.18.0\\\", \\\"azureml-contrib-server\\\": \\\"1.18.0\\\", \\\"azureml-contrib-reinforcementlearning\\\": \\\"1.18.0\\\", \\\"azureml-contrib-pipeline-steps\\\": \\\"1.18.0\\\", \\\"azureml-contrib-notebook\\\": \\\"1.18.0\\\", \\\"azureml-contrib-interpret\\\": \\\"1.18.0\\\", \\\"azureml-contrib-gbdt\\\": \\\"1.18.0\\\", \\\"azureml-contrib-fairness\\\": \\\"1.18.0\\\", \\\"azureml-contrib-dataset\\\": \\\"1.18.0\\\", \\\"azureml-cli-common\\\": \\\"1.18.0\\\", \\\"azureml-automl-runtime\\\": \\\"1.18.0\\\", \\\"azureml-automl-core\\\": \\\"1.18.0\\\", \\\"azureml-accel-models\\\": \\\"1.18.0\\\"}\", \"_aml_system_scenario_identification\": \"Local.Parent\", \"ClientSdkVersion\": \"1.18.0\", \"ClientType\": \"SDK\", \"environment_cpu_name\": \"AzureML-AutoML\", \"environment_cpu_version\": \"44\", \"environment_gpu_name\": \"AzureML-AutoML-GPU\", \"environment_gpu_version\": \"32\", \"root_attribution\": \"automl\", \"attribution\": \"AutoML\", \"Orchestrator\": \"AutoML\", \"_azureml.ComputeTargetType\": \"local\", \"ProblemInfoJsonString\": \"{\\\"dataset_num_categorical\\\": 0, \\\"is_sparse\\\": true, \\\"subsampling\\\": false, \\\"dataset_classes\\\": 2, \\\"dataset_features\\\": 132, \\\"dataset_samples\\\": 32950, \\\"single_frequency_class_detected\\\": false}\", \"feature_skus\": \"automatedml_sdk_guardrails\"}, \"tags\": {\"model_explain_run\": \"best_run\", \"best_score\": \"0.9173898739936212\", \"best_pipeline\": \"VotingEnsemble\", \"automl_best_child_run_id\": \"AutoML_46c483d1-9fd0-4507-9bd1-daba873a4996_33\", \"model_explain_best_run_child_id\": \"AutoML_46c483d1-9fd0-4507-9bd1-daba873a4996_33\"}, \"end_time_utc\": \"2020-11-25T20:05:37.067942Z\", \"status\": \"Completed\", \"log_files\": {}, \"log_groups\": [], \"run_duration\": \"0:21:50\"}, \"child_runs\": [{\"run_id\": \"AutoML_46c483d1-9fd0-4507-9bd1-daba873a4996_0\", \"run_number\": 2, \"metric\": null, \"status\": \"Completed\", \"run_type\": null, \"training_percent\": \"100\", \"start_time\": \"2020-11-25T19:44:16.318633Z\", \"end_time\": \"2020-11-25T19:44:49.187744Z\", \"created_time\": \"2020-11-25T19:44:16.194962Z\", \"created_time_dt\": \"2020-11-25T19:44:16.194962Z\", \"duration\": \"0:00:32\", \"iteration\": \"0\", \"goal\": \"accuracy_max\", \"run_name\": \"MaxAbsScaler, LightGBM\", \"run_properties\": \"copy=True\", \"primary_metric\": 0.91605454, \"best_metric\": 0.91605454}, {\"run_id\": \"AutoML_46c483d1-9fd0-4507-9bd1-daba873a4996_1\", \"run_number\": 3, \"metric\": null, \"status\": \"Completed\", \"run_type\": null, \"training_percent\": \"100\", \"start_time\": \"2020-11-25T19:44:49.574295Z\", \"end_time\": \"2020-11-25T19:45:32.184415Z\", \"created_time\": \"2020-11-25T19:44:49.449529Z\", \"created_time_dt\": \"2020-11-25T19:44:49.449529Z\", \"duration\": \"0:00:42\", \"iteration\": \"1\", \"goal\": \"accuracy_max\", \"run_name\": \"MaxAbsScaler, XGBoostClassifier\", \"run_properties\": \"copy=True\", \"primary_metric\": 0.91408187, \"best_metric\": 0.91605454}, {\"run_id\": \"AutoML_46c483d1-9fd0-4507-9bd1-daba873a4996_2\", \"run_number\": 4, \"metric\": null, \"status\": \"Completed\", \"run_type\": null, \"training_percent\": \"100\", \"start_time\": \"2020-11-25T19:45:33.21458Z\", \"end_time\": \"2020-11-25T19:46:00.750834Z\", \"created_time\": \"2020-11-25T19:45:33.10169Z\", \"created_time_dt\": \"2020-11-25T19:45:33.10169Z\", \"duration\": \"0:00:27\", \"iteration\": \"2\", \"goal\": \"accuracy_max\", \"run_name\": \"MaxAbsScaler, RandomForest\", \"run_properties\": \"copy=True\", \"primary_metric\": 0.89186646, \"best_metric\": 0.91605454}, {\"run_id\": \"AutoML_46c483d1-9fd0-4507-9bd1-daba873a4996_3\", \"run_number\": 5, \"metric\": null, \"status\": \"Completed\", \"run_type\": null, \"training_percent\": \"100\", \"start_time\": \"2020-11-25T19:46:02.197837Z\", \"end_time\": \"2020-11-25T19:46:36.517588Z\", \"created_time\": \"2020-11-25T19:46:02.078604Z\", \"created_time_dt\": \"2020-11-25T19:46:02.078604Z\", \"duration\": \"0:00:34\", \"iteration\": \"3\", \"goal\": \"accuracy_max\", \"run_name\": \"MaxAbsScaler, RandomForest\", \"run_properties\": \"copy=True\", \"primary_metric\": 0.88795143, \"best_metric\": 0.91605454}, {\"run_id\": \"AutoML_46c483d1-9fd0-4507-9bd1-daba873a4996_4\", \"run_number\": 6, \"metric\": null, \"status\": \"Completed\", \"run_type\": null, \"training_percent\": \"100\", \"start_time\": \"2020-11-25T19:46:39.777679Z\", \"end_time\": \"2020-11-25T19:47:13.312361Z\", \"created_time\": \"2020-11-25T19:46:39.135011Z\", \"created_time_dt\": \"2020-11-25T19:46:39.135011Z\", \"duration\": \"0:00:34\", \"iteration\": \"4\", \"goal\": \"accuracy_max\", \"run_name\": \"MaxAbsScaler, SGD\", \"run_properties\": \"copy=True\", \"primary_metric\": 0.86852818, \"best_metric\": 0.91605454}, {\"run_id\": \"AutoML_46c483d1-9fd0-4507-9bd1-daba873a4996_5\", \"run_number\": 7, \"metric\": null, \"status\": \"Completed\", \"run_type\": null, \"training_percent\": \"100\", \"start_time\": \"2020-11-25T19:47:16.061498Z\", \"end_time\": \"2020-11-25T19:47:44.394093Z\", \"created_time\": \"2020-11-25T19:47:15.644933Z\", \"created_time_dt\": \"2020-11-25T19:47:15.644933Z\", \"duration\": \"0:00:28\", \"iteration\": \"5\", \"goal\": \"accuracy_max\", \"run_name\": \"MaxAbsScaler, SGD\", \"run_properties\": \"copy=True\", \"primary_metric\": 0.90895286, \"best_metric\": 0.91605454}, {\"run_id\": \"AutoML_46c483d1-9fd0-4507-9bd1-daba873a4996_6\", \"run_number\": 8, \"metric\": null, \"status\": \"Completed\", \"run_type\": null, \"training_percent\": \"100\", \"start_time\": \"2020-11-25T19:47:45.882147Z\", \"end_time\": \"2020-11-25T19:48:16.073098Z\", \"created_time\": \"2020-11-25T19:47:45.73797Z\", \"created_time_dt\": \"2020-11-25T19:47:45.73797Z\", \"duration\": \"0:00:30\", \"iteration\": \"6\", \"goal\": \"accuracy_max\", \"run_name\": \"MaxAbsScaler, ExtremeRandomTrees\", \"run_properties\": \"copy=True\", \"primary_metric\": 0.89930201, \"best_metric\": 0.91605454}, {\"run_id\": \"AutoML_46c483d1-9fd0-4507-9bd1-daba873a4996_7\", \"run_number\": 9, \"metric\": null, \"status\": \"Completed\", \"run_type\": null, \"training_percent\": \"100\", \"start_time\": \"2020-11-25T19:48:17.375898Z\", \"end_time\": \"2020-11-25T19:48:48.023955Z\", \"created_time\": \"2020-11-25T19:48:17.2708Z\", \"created_time_dt\": \"2020-11-25T19:48:17.2708Z\", \"duration\": \"0:00:30\", \"iteration\": \"7\", \"goal\": \"accuracy_max\", \"run_name\": \"MaxAbsScaler, ExtremeRandomTrees\", \"run_properties\": \"copy=True\", \"primary_metric\": 0.90027318, \"best_metric\": 0.91605454}, {\"run_id\": \"AutoML_46c483d1-9fd0-4507-9bd1-daba873a4996_8\", \"run_number\": 10, \"metric\": null, \"status\": \"Completed\", \"run_type\": null, \"training_percent\": \"100\", \"start_time\": \"2020-11-25T19:48:49.768104Z\", \"end_time\": \"2020-11-25T19:49:21.462788Z\", \"created_time\": \"2020-11-25T19:48:49.642064Z\", \"created_time_dt\": \"2020-11-25T19:48:49.642064Z\", \"duration\": \"0:00:31\", \"iteration\": \"8\", \"goal\": \"accuracy_max\", \"run_name\": \"MaxAbsScaler, ExtremeRandomTrees\", \"run_properties\": \"copy=True\", \"primary_metric\": 0.90006069, \"best_metric\": 0.91605454}, {\"run_id\": \"AutoML_46c483d1-9fd0-4507-9bd1-daba873a4996_9\", \"run_number\": 11, \"metric\": null, \"status\": \"Completed\", \"run_type\": null, \"training_percent\": \"100\", \"start_time\": \"2020-11-25T19:49:23.071547Z\", \"end_time\": \"2020-11-25T19:49:53.635531Z\", \"created_time\": \"2020-11-25T19:49:22.904882Z\", \"created_time_dt\": \"2020-11-25T19:49:22.904882Z\", \"duration\": \"0:00:30\", \"iteration\": \"9\", \"goal\": \"accuracy_max\", \"run_name\": \"MaxAbsScaler, ExtremeRandomTrees\", \"run_properties\": \"copy=True\", \"primary_metric\": 0.76194213, \"best_metric\": 0.91605454}, {\"run_id\": \"AutoML_46c483d1-9fd0-4507-9bd1-daba873a4996_10\", \"run_number\": 12, \"metric\": null, \"status\": \"Completed\", \"run_type\": null, \"training_percent\": \"100\", \"start_time\": \"2020-11-25T19:49:55.155678Z\", \"end_time\": \"2020-11-25T19:50:21.395094Z\", \"created_time\": \"2020-11-25T19:49:55.014659Z\", \"created_time_dt\": \"2020-11-25T19:49:55.014659Z\", \"duration\": \"0:00:26\", \"iteration\": \"10\", \"goal\": \"accuracy_max\", \"run_name\": \"MaxAbsScaler, SGD\", \"run_properties\": \"copy=True\", \"primary_metric\": 0.90330799, \"best_metric\": 0.91605454}, {\"run_id\": \"AutoML_46c483d1-9fd0-4507-9bd1-daba873a4996_11\", \"run_number\": 13, \"metric\": null, \"status\": \"Completed\", \"run_type\": null, \"training_percent\": \"100\", \"start_time\": \"2020-11-25T19:50:22.965177Z\", \"end_time\": \"2020-11-25T19:50:49.418412Z\", \"created_time\": \"2020-11-25T19:50:22.832575Z\", \"created_time_dt\": \"2020-11-25T19:50:22.832575Z\", \"duration\": \"0:00:26\", \"iteration\": \"11\", \"goal\": \"accuracy_max\", \"run_name\": \"MaxAbsScaler, SGD\", \"run_properties\": \"copy=True\", \"primary_metric\": 0.90373292, \"best_metric\": 0.91605454}, {\"run_id\": \"AutoML_46c483d1-9fd0-4507-9bd1-daba873a4996_12\", \"run_number\": 14, \"metric\": null, \"status\": \"Completed\", \"run_type\": null, \"training_percent\": \"100\", \"start_time\": \"2020-11-25T19:50:50.923792Z\", \"end_time\": \"2020-11-25T19:51:19.581253Z\", \"created_time\": \"2020-11-25T19:50:50.798751Z\", \"created_time_dt\": \"2020-11-25T19:50:50.798751Z\", \"duration\": \"0:00:28\", \"iteration\": \"12\", \"goal\": \"accuracy_max\", \"run_name\": \"MaxAbsScaler, RandomForest\", \"run_properties\": \"copy=True\", \"primary_metric\": 0.88968144, \"best_metric\": 0.91605454}, {\"run_id\": \"AutoML_46c483d1-9fd0-4507-9bd1-daba873a4996_13\", \"run_number\": 15, \"metric\": null, \"status\": \"Completed\", \"run_type\": null, \"training_percent\": \"100\", \"start_time\": \"2020-11-25T19:51:21.124815Z\", \"end_time\": \"2020-11-25T19:51:50.669485Z\", \"created_time\": \"2020-11-25T19:51:21.002687Z\", \"created_time_dt\": \"2020-11-25T19:51:21.002687Z\", \"duration\": \"0:00:29\", \"iteration\": \"13\", \"goal\": \"accuracy_max\", \"run_name\": \"StandardScalerWrapper, ExtremeRandomTrees\", \"run_properties\": \"<azureml.automl.runtime.shared.model_wrappers.StandardScalerWrapper object at 0x7fa0fb884f28\", \"primary_metric\": 0.88795143, \"best_metric\": 0.91605454}, {\"run_id\": \"AutoML_46c483d1-9fd0-4507-9bd1-daba873a4996_14\", \"run_number\": 16, \"metric\": null, \"status\": \"Completed\", \"run_type\": null, \"training_percent\": \"100\", \"start_time\": \"2020-11-25T19:51:52.007453Z\", \"end_time\": \"2020-11-25T19:52:19.517585Z\", \"created_time\": \"2020-11-25T19:51:51.880741Z\", \"created_time_dt\": \"2020-11-25T19:51:51.880741Z\", \"duration\": \"0:00:27\", \"iteration\": \"14\", \"goal\": \"accuracy_max\", \"run_name\": \"MaxAbsScaler, RandomForest\", \"run_properties\": \"copy=True\", \"primary_metric\": 0.77824019, \"best_metric\": 0.91605454}, {\"run_id\": \"AutoML_46c483d1-9fd0-4507-9bd1-daba873a4996_15\", \"run_number\": 17, \"metric\": null, \"status\": \"Completed\", \"run_type\": null, \"training_percent\": \"100\", \"start_time\": \"2020-11-25T19:52:21.178596Z\", \"end_time\": \"2020-11-25T19:52:52.528881Z\", \"created_time\": \"2020-11-25T19:52:21.040714Z\", \"created_time_dt\": \"2020-11-25T19:52:21.040714Z\", \"duration\": \"0:00:31\", \"iteration\": \"15\", \"goal\": \"accuracy_max\", \"run_name\": \"MaxAbsScaler, SGD\", \"run_properties\": \"copy=True\", \"primary_metric\": 0.84497728, \"best_metric\": 0.91605454}, {\"run_id\": \"AutoML_46c483d1-9fd0-4507-9bd1-daba873a4996_16\", \"run_number\": 18, \"metric\": null, \"status\": \"Completed\", \"run_type\": null, \"training_percent\": \"100\", \"start_time\": \"2020-11-25T19:52:54.705105Z\", \"end_time\": \"2020-11-25T19:53:28.48401Z\", \"created_time\": \"2020-11-25T19:52:54.593983Z\", \"created_time_dt\": \"2020-11-25T19:52:54.593983Z\", \"duration\": \"0:00:33\", \"iteration\": \"16\", \"goal\": \"accuracy_max\", \"run_name\": \"MaxAbsScaler, RandomForest\", \"run_properties\": \"copy=True\", \"primary_metric\": 0.88795143, \"best_metric\": 0.91605454}, {\"run_id\": \"AutoML_46c483d1-9fd0-4507-9bd1-daba873a4996_17\", \"run_number\": 19, \"metric\": null, \"status\": \"Completed\", \"run_type\": null, \"training_percent\": \"100\", \"start_time\": \"2020-11-25T19:53:30.183501Z\", \"end_time\": \"2020-11-25T19:54:00.487067Z\", \"created_time\": \"2020-11-25T19:53:30.037756Z\", \"created_time_dt\": \"2020-11-25T19:53:30.037756Z\", \"duration\": \"0:00:30\", \"iteration\": \"17\", \"goal\": \"accuracy_max\", \"run_name\": \"MaxAbsScaler, ExtremeRandomTrees\", \"run_properties\": \"copy=True\", \"primary_metric\": 0.89987859, \"best_metric\": 0.91605454}, {\"run_id\": \"AutoML_46c483d1-9fd0-4507-9bd1-daba873a4996_18\", \"run_number\": 20, \"metric\": null, \"status\": \"Completed\", \"run_type\": null, \"training_percent\": \"100\", \"start_time\": \"2020-11-25T19:54:02.200298Z\", \"end_time\": \"2020-11-25T19:54:31.021393Z\", \"created_time\": \"2020-11-25T19:54:02.052134Z\", \"created_time_dt\": \"2020-11-25T19:54:02.052134Z\", \"duration\": \"0:00:28\", \"iteration\": \"18\", \"goal\": \"accuracy_max\", \"run_name\": \"SparseNormalizer, ExtremeRandomTrees\", \"run_properties\": \"<azureml.automl.runtime.shared.model_wrappers.SparseNormalizer object at 0x7fa0fb7c10b8\", \"primary_metric\": 0.72497674, \"best_metric\": 0.91605454}, {\"run_id\": \"AutoML_46c483d1-9fd0-4507-9bd1-daba873a4996_19\", \"run_number\": 21, \"metric\": null, \"status\": \"Completed\", \"run_type\": null, \"training_percent\": \"100\", \"start_time\": \"2020-11-25T19:54:32.731756Z\", \"end_time\": \"2020-11-25T19:54:58.820881Z\", \"created_time\": \"2020-11-25T19:54:32.601398Z\", \"created_time_dt\": \"2020-11-25T19:54:32.601398Z\", \"duration\": \"0:00:26\", \"iteration\": \"19\", \"goal\": \"accuracy_max\", \"run_name\": \"MaxAbsScaler, SGD\", \"run_properties\": \"copy=True\", \"primary_metric\": 0.9062216, \"best_metric\": 0.91605454}, {\"run_id\": \"AutoML_46c483d1-9fd0-4507-9bd1-daba873a4996_20\", \"run_number\": 22, \"metric\": null, \"status\": \"Completed\", \"run_type\": null, \"training_percent\": \"100\", \"start_time\": \"2020-11-25T19:55:00.586422Z\", \"end_time\": \"2020-11-25T19:55:32.766372Z\", \"created_time\": \"2020-11-25T19:55:00.477435Z\", \"created_time_dt\": \"2020-11-25T19:55:00.477435Z\", \"duration\": \"0:00:32\", \"iteration\": \"20\", \"goal\": \"accuracy_max\", \"run_name\": \"MaxAbsScaler, ExtremeRandomTrees\", \"run_properties\": \"copy=True\", \"primary_metric\": 0.74707139, \"best_metric\": 0.91605454}, {\"run_id\": \"AutoML_46c483d1-9fd0-4507-9bd1-daba873a4996_21\", \"run_number\": 23, \"metric\": null, \"status\": \"Completed\", \"run_type\": null, \"training_percent\": \"100\", \"start_time\": \"2020-11-25T19:55:34.570885Z\", \"end_time\": \"2020-11-25T19:56:03.170409Z\", \"created_time\": \"2020-11-25T19:55:34.279276Z\", \"created_time_dt\": \"2020-11-25T19:55:34.279276Z\", \"duration\": \"0:00:28\", \"iteration\": \"21\", \"goal\": \"accuracy_max\", \"run_name\": \"MaxAbsScaler, RandomForest\", \"run_properties\": \"copy=True\", \"primary_metric\": 0.76591801, \"best_metric\": 0.91605454}, {\"run_id\": \"AutoML_46c483d1-9fd0-4507-9bd1-daba873a4996_22\", \"run_number\": 24, \"metric\": null, \"status\": \"Completed\", \"run_type\": null, \"training_percent\": \"100\", \"start_time\": \"2020-11-25T19:56:04.989397Z\", \"end_time\": \"2020-11-25T19:56:33.92939Z\", \"created_time\": \"2020-11-25T19:56:04.679993Z\", \"created_time_dt\": \"2020-11-25T19:56:04.679993Z\", \"duration\": \"0:00:29\", \"iteration\": \"22\", \"goal\": \"accuracy_max\", \"run_name\": \"MaxAbsScaler, LightGBM\", \"run_properties\": \"copy=True\", \"primary_metric\": 0.91335354, \"best_metric\": 0.91605454}, {\"run_id\": \"AutoML_46c483d1-9fd0-4507-9bd1-daba873a4996_23\", \"run_number\": 25, \"metric\": null, \"status\": \"Completed\", \"run_type\": null, \"training_percent\": \"100\", \"start_time\": \"2020-11-25T19:56:35.156415Z\", \"end_time\": \"2020-11-25T19:57:18.030096Z\", \"created_time\": \"2020-11-25T19:56:35.04617Z\", \"created_time_dt\": \"2020-11-25T19:56:35.04617Z\", \"duration\": \"0:00:42\", \"iteration\": \"23\", \"goal\": \"accuracy_max\", \"run_name\": \"MaxAbsScaler, ExtremeRandomTrees\", \"run_properties\": \"copy=True\", \"primary_metric\": 0.88795143, \"best_metric\": 0.91605454}, {\"run_id\": \"AutoML_46c483d1-9fd0-4507-9bd1-daba873a4996_24\", \"run_number\": 26, \"metric\": null, \"status\": \"Completed\", \"run_type\": null, \"training_percent\": \"100\", \"start_time\": \"2020-11-25T19:57:19.831586Z\", \"end_time\": \"2020-11-25T19:58:36.422514Z\", \"created_time\": \"2020-11-25T19:57:19.512027Z\", \"created_time_dt\": \"2020-11-25T19:57:19.512027Z\", \"duration\": \"0:01:16\", \"iteration\": \"24\", \"goal\": \"accuracy_max\", \"run_name\": \"MaxAbsScaler, ExtremeRandomTrees\", \"run_properties\": \"copy=True\", \"primary_metric\": 0.89496203, \"best_metric\": 0.91605454}, {\"run_id\": \"AutoML_46c483d1-9fd0-4507-9bd1-daba873a4996_25\", \"run_number\": 27, \"metric\": null, \"status\": \"Completed\", \"run_type\": null, \"training_percent\": \"100\", \"start_time\": \"2020-11-25T19:58:38.693272Z\", \"end_time\": \"2020-11-25T19:59:05.066288Z\", \"created_time\": \"2020-11-25T19:58:38.563788Z\", \"created_time_dt\": \"2020-11-25T19:58:38.563788Z\", \"duration\": \"0:00:26\", \"iteration\": \"25\", \"goal\": \"accuracy_max\", \"run_name\": \"MaxAbsScaler, LightGBM\", \"run_properties\": \"copy=True\", \"primary_metric\": 0.88795143, \"best_metric\": 0.91605454}, {\"run_id\": \"AutoML_46c483d1-9fd0-4507-9bd1-daba873a4996_26\", \"run_number\": 28, \"metric\": null, \"status\": \"Completed\", \"run_type\": null, \"training_percent\": \"100\", \"start_time\": \"2020-11-25T19:59:06.368245Z\", \"end_time\": \"2020-11-25T20:00:16.340681Z\", \"created_time\": \"2020-11-25T19:59:06.258971Z\", \"created_time_dt\": \"2020-11-25T19:59:06.258971Z\", \"duration\": \"0:01:10\", \"iteration\": \"26\", \"goal\": \"accuracy_max\", \"run_name\": \"SparseNormalizer, ExtremeRandomTrees\", \"run_properties\": \"<azureml.automl.runtime.shared.model_wrappers.SparseNormalizer object at 0x7fa0fb619240\", \"primary_metric\": 0.88795143, \"best_metric\": 0.91605454}, {\"run_id\": \"AutoML_46c483d1-9fd0-4507-9bd1-daba873a4996_27\", \"run_number\": 29, \"metric\": null, \"status\": \"Completed\", \"run_type\": null, \"training_percent\": \"100\", \"start_time\": \"2020-11-25T20:00:18.717678Z\", \"end_time\": \"2020-11-25T20:01:20.697437Z\", \"created_time\": \"2020-11-25T20:00:18.241807Z\", \"created_time_dt\": \"2020-11-25T20:00:18.241807Z\", \"duration\": \"0:01:02\", \"iteration\": \"27\", \"goal\": \"accuracy_max\", \"run_name\": \"MaxAbsScaler, ExtremeRandomTrees\", \"run_properties\": \"copy=True\", \"primary_metric\": 0.89948408, \"best_metric\": 0.91605454}, {\"run_id\": \"AutoML_46c483d1-9fd0-4507-9bd1-daba873a4996_28\", \"run_number\": 30, \"metric\": null, \"status\": \"Completed\", \"run_type\": null, \"training_percent\": \"100\", \"start_time\": \"2020-11-25T20:01:22.579526Z\", \"end_time\": \"2020-11-25T20:02:03.012406Z\", \"created_time\": \"2020-11-25T20:01:22.467345Z\", \"created_time_dt\": \"2020-11-25T20:01:22.467345Z\", \"duration\": \"0:00:40\", \"iteration\": \"28\", \"goal\": \"accuracy_max\", \"run_name\": \"StandardScalerWrapper, ExtremeRandomTrees\", \"run_properties\": \"<azureml.automl.runtime.shared.model_wrappers.StandardScalerWrapper object at 0x7fa022cd3e48\", \"primary_metric\": 0.89957514, \"best_metric\": 0.91605454}, {\"run_id\": \"AutoML_46c483d1-9fd0-4507-9bd1-daba873a4996_29\", \"run_number\": 31, \"metric\": null, \"status\": \"Completed\", \"run_type\": null, \"training_percent\": \"100\", \"start_time\": \"2020-11-25T20:02:04.492165Z\", \"end_time\": \"2020-11-25T20:02:36.9672Z\", \"created_time\": \"2020-11-25T20:02:04.371819Z\", \"created_time_dt\": \"2020-11-25T20:02:04.371819Z\", \"duration\": \"0:00:32\", \"iteration\": \"29\", \"goal\": \"accuracy_max\", \"run_name\": \"StandardScalerWrapper, LightGBM\", \"run_properties\": \"<azureml.automl.runtime.shared.model_wrappers.StandardScalerWrapper object at 0x7fa0f2d870f0\", \"primary_metric\": 0.90998483, \"best_metric\": 0.91605454}, {\"run_id\": \"AutoML_46c483d1-9fd0-4507-9bd1-daba873a4996_30\", \"run_number\": 32, \"metric\": null, \"status\": \"Completed\", \"run_type\": null, \"training_percent\": \"100\", \"start_time\": \"2020-11-25T20:02:39.220833Z\", \"end_time\": \"2020-11-25T20:03:08.754355Z\", \"created_time\": \"2020-11-25T20:02:39.08755Z\", \"created_time_dt\": \"2020-11-25T20:02:39.08755Z\", \"duration\": \"0:00:29\", \"iteration\": \"30\", \"goal\": \"accuracy_max\", \"run_name\": \"MaxAbsScaler, LightGBM\", \"run_properties\": \"copy=True\", \"primary_metric\": 0.88795143, \"best_metric\": 0.91605454}, {\"run_id\": \"AutoML_46c483d1-9fd0-4507-9bd1-daba873a4996_31\", \"run_number\": 33, \"metric\": null, \"status\": \"Completed\", \"run_type\": null, \"training_percent\": \"100\", \"start_time\": \"2020-11-25T20:03:09.965249Z\", \"end_time\": \"2020-11-25T20:03:46.980623Z\", \"created_time\": \"2020-11-25T20:03:09.854684Z\", \"created_time_dt\": \"2020-11-25T20:03:09.854684Z\", \"duration\": \"0:00:37\", \"iteration\": \"31\", \"goal\": \"accuracy_max\", \"run_name\": \"MaxAbsScaler, ExtremeRandomTrees\", \"run_properties\": \"copy=True\", \"primary_metric\": 0.90015176, \"best_metric\": 0.91605454}, {\"run_id\": \"AutoML_46c483d1-9fd0-4507-9bd1-daba873a4996_32\", \"run_number\": 34, \"metric\": null, \"status\": \"Completed\", \"run_type\": null, \"training_percent\": \"100\", \"start_time\": \"2020-11-25T20:03:48.140028Z\", \"end_time\": \"2020-11-25T20:04:21.449199Z\", \"created_time\": \"2020-11-25T20:03:48.039031Z\", \"created_time_dt\": \"2020-11-25T20:03:48.039031Z\", \"duration\": \"0:00:33\", \"iteration\": \"32\", \"goal\": \"accuracy_max\", \"run_name\": \"StandardScalerWrapper, RandomForest\", \"run_properties\": \"<azureml.automl.runtime.shared.model_wrappers.StandardScalerWrapper object at 0x7fa01c06a5f8\", \"primary_metric\": 0.88795143, \"best_metric\": 0.91605454}, {\"run_id\": \"AutoML_46c483d1-9fd0-4507-9bd1-daba873a4996_33\", \"run_number\": 35, \"metric\": null, \"status\": \"Completed\", \"run_type\": null, \"training_percent\": \"100\", \"start_time\": \"2020-11-25T20:04:22.011349Z\", \"end_time\": \"2020-11-25T20:05:33.944747Z\", \"created_time\": \"2020-11-25T20:04:21.879954Z\", \"created_time_dt\": \"2020-11-25T20:04:21.879954Z\", \"duration\": \"0:01:12\", \"iteration\": \"33\", \"goal\": \"accuracy_max\", \"run_name\": \"VotingEnsemble\", \"run_properties\": \"classification_labels=None,\\n                              estimators=[('0',\\n                                           Pipeline(memory=None,\\n                                                    steps=[('maxabsscaler',\\n                                                            MaxAbsScaler(copy=True\", \"primary_metric\": 0.91738987, \"best_metric\": 0.91738987}], \"children_metrics\": {\"categories\": [0], \"series\": {\"matthews_correlation\": [{\"categories\": [\"0\", \"1\", \"2\", \"3\", \"4\", \"5\", \"6\", \"7\", \"8\", \"9\", \"10\", \"11\", \"12\", \"13\", \"14\", \"15\", \"16\", \"17\", \"18\", \"19\", \"20\", \"21\", \"22\", \"23\", \"24\", \"25\", \"26\", \"27\", \"28\", \"29\", \"30\", \"31\", \"32\", \"33\"], \"mode\": \"markers\", \"name\": \"matthews_correlation\", \"stepped\": false, \"type\": \"scatter\", \"data\": [0.5495496785200336, 0.5236237185769719, 0.13722114720853804, 0.0, 0.5530379716771728, 0.4731301449208775, 0.3208515242272395, 0.3267122626048864, 0.32767046350065365, 0.33356181701916343, 0.37988407181723294, 0.380659242331503, 0.0822427571473997, 0.0, 0.3797637670883445, 0.54183377250312, 0.0, 0.3266275815143693, 0.3414797987417173, 0.4205639102757094, 0.31190135224144244, 0.38918904308564856, 0.513619420247466, 0.0, 0.23558417422734654, 0.0, 0.0, 0.3202926561181856, 0.32315473470781736, 0.48164311365308576, 0.0, 0.3291438909018414, 0.0, 0.5630372068754274]}, {\"categories\": [\"0\", \"1\", \"2\", \"3\", \"4\", \"5\", \"6\", \"7\", \"8\", \"9\", \"10\", \"11\", \"12\", \"13\", \"14\", \"15\", \"16\", \"17\", \"18\", \"19\", \"20\", \"21\", \"22\", \"23\", \"24\", \"25\", \"26\", \"27\", \"28\", \"29\", \"30\", \"31\", \"32\", \"33\"], \"mode\": \"lines\", \"name\": \"matthews_correlation_max\", \"stepped\": true, \"type\": \"scatter\", \"data\": [0.5495496785200336, 0.5495496785200336, 0.5495496785200336, 0.5495496785200336, 0.5530379716771728, 0.5530379716771728, 0.5530379716771728, 0.5530379716771728, 0.5530379716771728, 0.5530379716771728, 0.5530379716771728, 0.5530379716771728, 0.5530379716771728, 0.5530379716771728, 0.5530379716771728, 0.5530379716771728, 0.5530379716771728, 0.5530379716771728, 0.5530379716771728, 0.5530379716771728, 0.5530379716771728, 0.5530379716771728, 0.5530379716771728, 0.5530379716771728, 0.5530379716771728, 0.5530379716771728, 0.5530379716771728, 0.5530379716771728, 0.5530379716771728, 0.5530379716771728, 0.5530379716771728, 0.5530379716771728, 0.5530379716771728, 0.5630372068754274]}], \"f1_score_micro\": [{\"categories\": [\"0\", \"1\", \"2\", \"3\", \"4\", \"5\", \"6\", \"7\", \"8\", \"9\", \"10\", \"11\", \"12\", \"13\", \"14\", \"15\", \"16\", \"17\", \"18\", \"19\", \"20\", \"21\", \"22\", \"23\", \"24\", \"25\", \"26\", \"27\", \"28\", \"29\", \"30\", \"31\", \"32\", \"33\"], \"mode\": \"markers\", \"name\": \"f1_score_micro\", \"stepped\": false, \"type\": \"scatter\", \"data\": [0.9160545431775446, 0.9140818664931945, 0.8918664620993926, 0.8879514337968327, 0.8685281828807732, 0.9089528592186271, 0.8993020128416469, 0.9002731775980001, 0.9000606884484864, 0.7619421259947071, 0.9033079905528743, 0.9037329246408954, 0.8896814362670491, 0.8879514337968327, 0.7782401892903081, 0.844977281879621, 0.8879514337968327, 0.8998785869973721, 0.7249767398526825, 0.9062215990337007, 0.7470713855667511, 0.7659180144318283, 0.9133535380579986, 0.8879514337968327, 0.8949620283455625, 0.8879514337968327, 0.8879514337968327, 0.8994840848187569, 0.8995751410706898, 0.909984825161533, 0.8879514337968327, 0.9001517594374214, 0.8879514337968327, 0.9173898739936212]}, {\"categories\": [\"0\", \"1\", \"2\", \"3\", \"4\", \"5\", \"6\", \"7\", \"8\", \"9\", \"10\", \"11\", \"12\", \"13\", \"14\", \"15\", \"16\", \"17\", \"18\", \"19\", \"20\", \"21\", \"22\", \"23\", \"24\", \"25\", \"26\", \"27\", \"28\", \"29\", \"30\", \"31\", \"32\", \"33\"], \"mode\": \"lines\", \"name\": \"f1_score_micro_max\", \"stepped\": true, \"type\": \"scatter\", \"data\": [0.9160545431775446, 0.9160545431775446, 0.9160545431775446, 0.9160545431775446, 0.9160545431775446, 0.9160545431775446, 0.9160545431775446, 0.9160545431775446, 0.9160545431775446, 0.9160545431775446, 0.9160545431775446, 0.9160545431775446, 0.9160545431775446, 0.9160545431775446, 0.9160545431775446, 0.9160545431775446, 0.9160545431775446, 0.9160545431775446, 0.9160545431775446, 0.9160545431775446, 0.9160545431775446, 0.9160545431775446, 0.9160545431775446, 0.9160545431775446, 0.9160545431775446, 0.9160545431775446, 0.9160545431775446, 0.9160545431775446, 0.9160545431775446, 0.9160545431775446, 0.9160545431775446, 0.9160545431775446, 0.9160545431775446, 0.9173898739936212]}], \"log_loss\": [{\"categories\": [\"0\", \"1\", \"2\", \"3\", \"4\", \"5\", \"6\", \"7\", \"8\", \"9\", \"10\", \"11\", \"12\", \"13\", \"14\", \"15\", \"16\", \"17\", \"18\", \"19\", \"20\", \"21\", \"22\", \"23\", \"24\", \"25\", \"26\", \"27\", \"28\", \"29\", \"30\", \"31\", \"32\", \"33\"], \"mode\": \"markers\", \"name\": \"log_loss\", \"stepped\": false, \"type\": \"scatter\", \"data\": [0.17245753453066517, 0.1773069048665405, 0.23336936627081376, 0.27511425179536203, 0.3547955148223054, 0.2143964258823947, 0.2324928886155666, 0.25160344491075903, 0.25471884704972003, 0.5177735320435477, 0.2407283868133096, 0.23515625736898813, 0.24933156527526595, 0.2538257213239289, 0.5805756263881605, 0.9897483181860531, 0.2726029725857672, 0.23235988062210194, 0.501686001317304, 0.3489423096149826, 0.5661634698292848, 0.5089197714384248, 0.18512054894643828, 0.2553460772660987, 0.2714226621568701, 0.3142613854640456, 0.25965281254737965, 0.23407610274503549, 0.23146364068024725, 0.1860205639766015, 0.27071290760692523, 0.24015631700426274, 0.21443579321776, 0.19951606798043883]}, {\"categories\": [\"0\", \"1\", \"2\", \"3\", \"4\", \"5\", \"6\", \"7\", \"8\", \"9\", \"10\", \"11\", \"12\", \"13\", \"14\", \"15\", \"16\", \"17\", \"18\", \"19\", \"20\", \"21\", \"22\", \"23\", \"24\", \"25\", \"26\", \"27\", \"28\", \"29\", \"30\", \"31\", \"32\", \"33\"], \"mode\": \"lines\", \"name\": \"log_loss_min\", \"stepped\": true, \"type\": \"scatter\", \"data\": [0.17245753453066517, 0.17245753453066517, 0.17245753453066517, 0.17245753453066517, 0.17245753453066517, 0.17245753453066517, 0.17245753453066517, 0.17245753453066517, 0.17245753453066517, 0.17245753453066517, 0.17245753453066517, 0.17245753453066517, 0.17245753453066517, 0.17245753453066517, 0.17245753453066517, 0.17245753453066517, 0.17245753453066517, 0.17245753453066517, 0.17245753453066517, 0.17245753453066517, 0.17245753453066517, 0.17245753453066517, 0.17245753453066517, 0.17245753453066517, 0.17245753453066517, 0.17245753453066517, 0.17245753453066517, 0.17245753453066517, 0.17245753453066517, 0.17245753453066517, 0.17245753453066517, 0.17245753453066517, 0.17245753453066517, 0.17245753453066517]}], \"balanced_accuracy\": [{\"categories\": [\"0\", \"1\", \"2\", \"3\", \"4\", \"5\", \"6\", \"7\", \"8\", \"9\", \"10\", \"11\", \"12\", \"13\", \"14\", \"15\", \"16\", \"17\", \"18\", \"19\", \"20\", \"21\", \"22\", \"23\", \"24\", \"25\", \"26\", \"27\", \"28\", \"29\", \"30\", \"31\", \"32\", \"33\"], \"mode\": \"markers\", \"name\": \"balanced_accuracy\", \"stepped\": false, \"type\": \"scatter\", \"data\": [0.7544995930357585, 0.7315197315045925, 0.5219814548437975, 0.5, 0.854339904617253, 0.6953671968546628, 0.5856629250153216, 0.5852577215432748, 0.587854877612695, 0.7383829984078252, 0.6216462297450136, 0.6199975937492153, 0.5104140910791721, 0.5, 0.7697588172188093, 0.8691838887928759, 0.5, 0.5877772673621247, 0.7566636156000546, 0.6511493097866377, 0.725736124211907, 0.7836401589507375, 0.7225984468774331, 0.5, 0.5403323758037173, 0.5, 0.5, 0.5843587680641551, 0.5866526062789235, 0.7001067771232095, 0.5, 0.5886255316110383, 0.5, 0.7654500809352216]}, {\"categories\": [\"0\", \"1\", \"2\", \"3\", \"4\", \"5\", \"6\", \"7\", \"8\", \"9\", \"10\", \"11\", \"12\", \"13\", \"14\", \"15\", \"16\", \"17\", \"18\", \"19\", \"20\", \"21\", \"22\", \"23\", \"24\", \"25\", \"26\", \"27\", \"28\", \"29\", \"30\", \"31\", \"32\", \"33\"], \"mode\": \"lines\", \"name\": \"balanced_accuracy_max\", \"stepped\": true, \"type\": \"scatter\", \"data\": [0.7544995930357585, 0.7544995930357585, 0.7544995930357585, 0.7544995930357585, 0.854339904617253, 0.854339904617253, 0.854339904617253, 0.854339904617253, 0.854339904617253, 0.854339904617253, 0.854339904617253, 0.854339904617253, 0.854339904617253, 0.854339904617253, 0.854339904617253, 0.8691838887928759, 0.8691838887928759, 0.8691838887928759, 0.8691838887928759, 0.8691838887928759, 0.8691838887928759, 0.8691838887928759, 0.8691838887928759, 0.8691838887928759, 0.8691838887928759, 0.8691838887928759, 0.8691838887928759, 0.8691838887928759, 0.8691838887928759, 0.8691838887928759, 0.8691838887928759, 0.8691838887928759, 0.8691838887928759, 0.8691838887928759]}], \"norm_macro_recall\": [{\"categories\": [\"0\", \"1\", \"2\", \"3\", \"4\", \"5\", \"6\", \"7\", \"8\", \"9\", \"10\", \"11\", \"12\", \"13\", \"14\", \"15\", \"16\", \"17\", \"18\", \"19\", \"20\", \"21\", \"22\", \"23\", \"24\", \"25\", \"26\", \"27\", \"28\", \"29\", \"30\", \"31\", \"32\", \"33\"], \"mode\": \"markers\", \"name\": \"norm_macro_recall\", \"stepped\": false, \"type\": \"scatter\", \"data\": [0.5089991860715173, 0.463039463009185, 0.04396290968759503, 0.0, 0.7086798092345058, 0.39073439370932556, 0.17132585003064327, 0.1705154430865498, 0.17570975522539, 0.4767659968156504, 0.24329245949002715, 0.23999518749843057, 0.0208623351638087, 0.0, 0.5395176344376188, 0.7383677775857518, 0.0, 0.17555453472424942, 0.5133272312001091, 0.3022986195732754, 0.45147224842381406, 0.5672803179014749, 0.44519689375486615, 0.0, 0.08066475160743475, 0.0, 0.0, 0.16871753612831014, 0.1733052125578468, 0.40021355424641897, 0.0, 0.1772510632220764, 0.0, 0.5309001618704432]}, {\"categories\": [\"0\", \"1\", \"2\", \"3\", \"4\", \"5\", \"6\", \"7\", \"8\", \"9\", \"10\", \"11\", \"12\", \"13\", \"14\", \"15\", \"16\", \"17\", \"18\", \"19\", \"20\", \"21\", \"22\", \"23\", \"24\", \"25\", \"26\", \"27\", \"28\", \"29\", \"30\", \"31\", \"32\", \"33\"], \"mode\": \"lines\", \"name\": \"norm_macro_recall_max\", \"stepped\": true, \"type\": \"scatter\", \"data\": [0.5089991860715173, 0.5089991860715173, 0.5089991860715173, 0.5089991860715173, 0.7086798092345058, 0.7086798092345058, 0.7086798092345058, 0.7086798092345058, 0.7086798092345058, 0.7086798092345058, 0.7086798092345058, 0.7086798092345058, 0.7086798092345058, 0.7086798092345058, 0.7086798092345058, 0.7383677775857518, 0.7383677775857518, 0.7383677775857518, 0.7383677775857518, 0.7383677775857518, 0.7383677775857518, 0.7383677775857518, 0.7383677775857518, 0.7383677775857518, 0.7383677775857518, 0.7383677775857518, 0.7383677775857518, 0.7383677775857518, 0.7383677775857518, 0.7383677775857518, 0.7383677775857518, 0.7383677775857518, 0.7383677775857518, 0.7383677775857518]}], \"recall_score_micro\": [{\"categories\": [\"0\", \"1\", \"2\", \"3\", \"4\", \"5\", \"6\", \"7\", \"8\", \"9\", \"10\", \"11\", \"12\", \"13\", \"14\", \"15\", \"16\", \"17\", \"18\", \"19\", \"20\", \"21\", \"22\", \"23\", \"24\", \"25\", \"26\", \"27\", \"28\", \"29\", \"30\", \"31\", \"32\", \"33\"], \"mode\": \"markers\", \"name\": \"recall_score_micro\", \"stepped\": false, \"type\": \"scatter\", \"data\": [0.9160545431775446, 0.9140818664931945, 0.8918664620993926, 0.8879514337968327, 0.8685281828807733, 0.9089528592186271, 0.8993020128416469, 0.9002731775980001, 0.9000606884484864, 0.7619421259947071, 0.9033079905528743, 0.9037329246408954, 0.8896814362670491, 0.8879514337968327, 0.7782401892903081, 0.844977281879621, 0.8879514337968327, 0.8998785869973721, 0.7249767398526825, 0.9062215990337006, 0.747071385566751, 0.7659180144318283, 0.9133535380579985, 0.8879514337968327, 0.8949620283455625, 0.8879514337968327, 0.8879514337968327, 0.8994840848187569, 0.8995751410706898, 0.909984825161533, 0.8879514337968327, 0.9001517594374214, 0.8879514337968327, 0.9173898739936212]}, {\"categories\": [\"0\", \"1\", \"2\", \"3\", \"4\", \"5\", \"6\", \"7\", \"8\", \"9\", \"10\", \"11\", \"12\", \"13\", \"14\", \"15\", \"16\", \"17\", \"18\", \"19\", \"20\", \"21\", \"22\", \"23\", \"24\", \"25\", \"26\", \"27\", \"28\", \"29\", \"30\", \"31\", \"32\", \"33\"], \"mode\": \"lines\", \"name\": \"recall_score_micro_max\", \"stepped\": true, \"type\": \"scatter\", \"data\": [0.9160545431775446, 0.9160545431775446, 0.9160545431775446, 0.9160545431775446, 0.9160545431775446, 0.9160545431775446, 0.9160545431775446, 0.9160545431775446, 0.9160545431775446, 0.9160545431775446, 0.9160545431775446, 0.9160545431775446, 0.9160545431775446, 0.9160545431775446, 0.9160545431775446, 0.9160545431775446, 0.9160545431775446, 0.9160545431775446, 0.9160545431775446, 0.9160545431775446, 0.9160545431775446, 0.9160545431775446, 0.9160545431775446, 0.9160545431775446, 0.9160545431775446, 0.9160545431775446, 0.9160545431775446, 0.9160545431775446, 0.9160545431775446, 0.9160545431775446, 0.9160545431775446, 0.9160545431775446, 0.9160545431775446, 0.9173898739936212]}], \"average_precision_score_micro\": [{\"categories\": [\"0\", \"1\", \"2\", \"3\", \"4\", \"5\", \"6\", \"7\", \"8\", \"9\", \"10\", \"11\", \"12\", \"13\", \"14\", \"15\", \"16\", \"17\", \"18\", \"19\", \"20\", \"21\", \"22\", \"23\", \"24\", \"25\", \"26\", \"27\", \"28\", \"29\", \"30\", \"31\", \"32\", \"33\"], \"mode\": \"markers\", \"name\": \"average_precision_score_micro\", \"stepped\": false, \"type\": \"scatter\", \"data\": [0.9819495822311273, 0.9813290106278824, 0.9711538613237194, 0.9590544794029202, 0.9048105166003751, 0.9707003193995037, 0.9704045128473773, 0.9668388654408508, 0.9659564269205942, 0.8053517142787852, 0.9735987515450925, 0.9733732038240266, 0.9697062059590268, 0.9659076788500833, 0.8301359970775628, 0.8831108523087343, 0.9666177742296728, 0.9709127228095719, 0.8656755810171828, 0.9712217662119034, 0.8092919523329756, 0.8511799994178093, 0.9799105383696949, 0.9678508876062687, 0.9598645725911527, 0.9698037605984537, 0.9733818421520832, 0.97222481581775, 0.972032218389383, 0.9792360770769926, 0.9690380309656226, 0.9705506413248817, 0.9706338210049017, 0.9817418140296138]}, {\"categories\": [\"0\", \"1\", \"2\", \"3\", \"4\", \"5\", \"6\", \"7\", \"8\", \"9\", \"10\", \"11\", \"12\", \"13\", \"14\", \"15\", \"16\", \"17\", \"18\", \"19\", \"20\", \"21\", \"22\", \"23\", \"24\", \"25\", \"26\", \"27\", \"28\", \"29\", \"30\", \"31\", \"32\", \"33\"], \"mode\": \"lines\", \"name\": \"average_precision_score_micro_max\", \"stepped\": true, \"type\": \"scatter\", \"data\": [0.9819495822311273, 0.9819495822311273, 0.9819495822311273, 0.9819495822311273, 0.9819495822311273, 0.9819495822311273, 0.9819495822311273, 0.9819495822311273, 0.9819495822311273, 0.9819495822311273, 0.9819495822311273, 0.9819495822311273, 0.9819495822311273, 0.9819495822311273, 0.9819495822311273, 0.9819495822311273, 0.9819495822311273, 0.9819495822311273, 0.9819495822311273, 0.9819495822311273, 0.9819495822311273, 0.9819495822311273, 0.9819495822311273, 0.9819495822311273, 0.9819495822311273, 0.9819495822311273, 0.9819495822311273, 0.9819495822311273, 0.9819495822311273, 0.9819495822311273, 0.9819495822311273, 0.9819495822311273, 0.9819495822311273, 0.9819495822311273]}], \"AUC_micro\": [{\"categories\": [\"0\", \"1\", \"2\", \"3\", \"4\", \"5\", \"6\", \"7\", \"8\", \"9\", \"10\", \"11\", \"12\", \"13\", \"14\", \"15\", \"16\", \"17\", \"18\", \"19\", \"20\", \"21\", \"22\", \"23\", \"24\", \"25\", \"26\", \"27\", \"28\", \"29\", \"30\", \"31\", \"32\", \"33\"], \"mode\": \"markers\", \"name\": \"AUC_micro\", \"stepped\": false, \"type\": \"scatter\", \"data\": [0.981129796964056, 0.9804869494186204, 0.9701364485355003, 0.9589036363778227, 0.9262634663279696, 0.9736469584487933, 0.9698727327025451, 0.9658895256945627, 0.9649316362114143, 0.8301786473658009, 0.9733296252299249, 0.9729839865799605, 0.9690307769761909, 0.9653810668366875, 0.8543661129366171, 0.9033495754029909, 0.966201271424652, 0.969777343325595, 0.8536733955795458, 0.9730254570888297, 0.8346544751839311, 0.8590231635394896, 0.9790367956822918, 0.9664031586783688, 0.9591985289975999, 0.9686934732810728, 0.9721566756491752, 0.9709373913899044, 0.9707804472011512, 0.978310005074972, 0.9689734280473571, 0.9693195654690381, 0.9705936499460518, 0.9810394803477298]}, {\"categories\": [\"0\", \"1\", \"2\", \"3\", \"4\", \"5\", \"6\", \"7\", \"8\", \"9\", \"10\", \"11\", \"12\", \"13\", \"14\", \"15\", \"16\", \"17\", \"18\", \"19\", \"20\", \"21\", \"22\", \"23\", \"24\", \"25\", \"26\", \"27\", \"28\", \"29\", \"30\", \"31\", \"32\", \"33\"], \"mode\": \"lines\", \"name\": \"AUC_micro_max\", \"stepped\": true, \"type\": \"scatter\", \"data\": [0.981129796964056, 0.981129796964056, 0.981129796964056, 0.981129796964056, 0.981129796964056, 0.981129796964056, 0.981129796964056, 0.981129796964056, 0.981129796964056, 0.981129796964056, 0.981129796964056, 0.981129796964056, 0.981129796964056, 0.981129796964056, 0.981129796964056, 0.981129796964056, 0.981129796964056, 0.981129796964056, 0.981129796964056, 0.981129796964056, 0.981129796964056, 0.981129796964056, 0.981129796964056, 0.981129796964056, 0.981129796964056, 0.981129796964056, 0.981129796964056, 0.981129796964056, 0.981129796964056, 0.981129796964056, 0.981129796964056, 0.981129796964056, 0.981129796964056, 0.981129796964056]}], \"average_precision_score_weighted\": [{\"categories\": [\"0\", \"1\", \"2\", \"3\", \"4\", \"5\", \"6\", \"7\", \"8\", \"9\", \"10\", \"11\", \"12\", \"13\", \"14\", \"15\", \"16\", \"17\", \"18\", \"19\", \"20\", \"21\", \"22\", \"23\", \"24\", \"25\", \"26\", \"27\", \"28\", \"29\", \"30\", \"31\", \"32\", \"33\"], \"mode\": \"markers\", \"name\": \"average_precision_score_weighted\", \"stepped\": false, \"type\": \"scatter\", \"data\": [0.955895355712518, 0.9554809271402749, 0.9363898207403182, 0.9138011832247908, 0.9443520613878726, 0.9443044025371687, 0.9346308080401347, 0.9305973355773427, 0.9281493104952309, 0.9155611489151224, 0.9424926512245939, 0.9421941838949015, 0.9345128618764037, 0.9221169354052148, 0.9175940173426114, 0.9435684650548415, 0.9280101004999582, 0.9345448548547026, 0.9220984068645359, 0.9426022409484702, 0.9028834353211765, 0.9225929408953707, 0.953284526560558, 0.9273953765605094, 0.9219980150606579, 0.9334538563636025, 0.9421508285086468, 0.9366007451322101, 0.936168497707975, 0.9503942624283441, 0.9330512110377587, 0.9355946810523854, 0.9335299960309325, 0.9559073744703266]}, {\"categories\": [\"0\", \"1\", \"2\", \"3\", \"4\", \"5\", \"6\", \"7\", \"8\", \"9\", \"10\", \"11\", \"12\", \"13\", \"14\", \"15\", \"16\", \"17\", \"18\", \"19\", \"20\", \"21\", \"22\", \"23\", \"24\", \"25\", \"26\", \"27\", \"28\", \"29\", \"30\", \"31\", \"32\", \"33\"], \"mode\": \"lines\", \"name\": \"average_precision_score_weighted_max\", \"stepped\": true, \"type\": \"scatter\", \"data\": [0.955895355712518, 0.955895355712518, 0.955895355712518, 0.955895355712518, 0.955895355712518, 0.955895355712518, 0.955895355712518, 0.955895355712518, 0.955895355712518, 0.955895355712518, 0.955895355712518, 0.955895355712518, 0.955895355712518, 0.955895355712518, 0.955895355712518, 0.955895355712518, 0.955895355712518, 0.955895355712518, 0.955895355712518, 0.955895355712518, 0.955895355712518, 0.955895355712518, 0.955895355712518, 0.955895355712518, 0.955895355712518, 0.955895355712518, 0.955895355712518, 0.955895355712518, 0.955895355712518, 0.955895355712518, 0.955895355712518, 0.955895355712518, 0.955895355712518, 0.9559073744703266]}], \"f1_score_weighted\": [{\"categories\": [\"0\", \"1\", \"2\", \"3\", \"4\", \"5\", \"6\", \"7\", \"8\", \"9\", \"10\", \"11\", \"12\", \"13\", \"14\", \"15\", \"16\", \"17\", \"18\", \"19\", \"20\", \"21\", \"22\", \"23\", \"24\", \"25\", \"26\", \"27\", \"28\", \"29\", \"30\", \"31\", \"32\", \"33\"], \"mode\": \"markers\", \"name\": \"f1_score_weighted\", \"stepped\": false, \"type\": \"scatter\", \"data\": [0.9128655108886562, 0.9088274791607913, 0.8460780912132158, 0.8352522705719847, 0.884363708314191, 0.9001728970593392, 0.8720035902445948, 0.8725195456990272, 0.8731100512339341, 0.8009104970429027, 0.8834025114462756, 0.883316158361521, 0.8405763327921592, 0.8352522705719847, 0.8141001249331593, 0.8675438136936074, 0.8352522705719847, 0.8729808583910542, 0.774026432014683, 0.890964306235122, 0.7895332444803916, 0.8055241258033516, 0.907202545020632, 0.8352522705719847, 0.854987424613098, 0.8352522705719847, 0.8352522705719847, 0.8717877515390692, 0.8724674398879851, 0.9017475280184242, 0.8352522705719847, 0.8733700298019492, 0.8352522705719847, 0.9149939553958534]}, {\"categories\": [\"0\", \"1\", \"2\", \"3\", \"4\", \"5\", \"6\", \"7\", \"8\", \"9\", \"10\", \"11\", \"12\", \"13\", \"14\", \"15\", \"16\", \"17\", \"18\", \"19\", \"20\", \"21\", \"22\", \"23\", \"24\", \"25\", \"26\", \"27\", \"28\", \"29\", \"30\", \"31\", \"32\", \"33\"], \"mode\": \"lines\", \"name\": \"f1_score_weighted_max\", \"stepped\": true, \"type\": \"scatter\", \"data\": [0.9128655108886562, 0.9128655108886562, 0.9128655108886562, 0.9128655108886562, 0.9128655108886562, 0.9128655108886562, 0.9128655108886562, 0.9128655108886562, 0.9128655108886562, 0.9128655108886562, 0.9128655108886562, 0.9128655108886562, 0.9128655108886562, 0.9128655108886562, 0.9128655108886562, 0.9128655108886562, 0.9128655108886562, 0.9128655108886562, 0.9128655108886562, 0.9128655108886562, 0.9128655108886562, 0.9128655108886562, 0.9128655108886562, 0.9128655108886562, 0.9128655108886562, 0.9128655108886562, 0.9128655108886562, 0.9128655108886562, 0.9128655108886562, 0.9128655108886562, 0.9128655108886562, 0.9128655108886562, 0.9128655108886562, 0.9149939553958534]}], \"accuracy\": [{\"categories\": [\"0\", \"1\", \"2\", \"3\", \"4\", \"5\", \"6\", \"7\", \"8\", \"9\", \"10\", \"11\", \"12\", \"13\", \"14\", \"15\", \"16\", \"17\", \"18\", \"19\", \"20\", \"21\", \"22\", \"23\", \"24\", \"25\", \"26\", \"27\", \"28\", \"29\", \"30\", \"31\", \"32\", \"33\"], \"mode\": \"markers\", \"name\": \"accuracy\", \"stepped\": false, \"type\": \"scatter\", \"data\": [0.9160545431775446, 0.9140818664931945, 0.8918664620993926, 0.8879514337968327, 0.8685281828807733, 0.9089528592186271, 0.8993020128416469, 0.9002731775980001, 0.9000606884484864, 0.7619421259947071, 0.9033079905528743, 0.9037329246408954, 0.8896814362670491, 0.8879514337968327, 0.7782401892903081, 0.844977281879621, 0.8879514337968327, 0.8998785869973721, 0.7249767398526825, 0.9062215990337006, 0.747071385566751, 0.7659180144318283, 0.9133535380579985, 0.8879514337968327, 0.8949620283455625, 0.8879514337968327, 0.8879514337968327, 0.8994840848187569, 0.8995751410706898, 0.909984825161533, 0.8879514337968327, 0.9001517594374214, 0.8879514337968327, 0.9173898739936212]}, {\"categories\": [\"0\", \"1\", \"2\", \"3\", \"4\", \"5\", \"6\", \"7\", \"8\", \"9\", \"10\", \"11\", \"12\", \"13\", \"14\", \"15\", \"16\", \"17\", \"18\", \"19\", \"20\", \"21\", \"22\", \"23\", \"24\", \"25\", \"26\", \"27\", \"28\", \"29\", \"30\", \"31\", \"32\", \"33\"], \"mode\": \"lines\", \"name\": \"accuracy_max\", \"stepped\": true, \"type\": \"scatter\", \"data\": [0.9160545431775446, 0.9160545431775446, 0.9160545431775446, 0.9160545431775446, 0.9160545431775446, 0.9160545431775446, 0.9160545431775446, 0.9160545431775446, 0.9160545431775446, 0.9160545431775446, 0.9160545431775446, 0.9160545431775446, 0.9160545431775446, 0.9160545431775446, 0.9160545431775446, 0.9160545431775446, 0.9160545431775446, 0.9160545431775446, 0.9160545431775446, 0.9160545431775446, 0.9160545431775446, 0.9160545431775446, 0.9160545431775446, 0.9160545431775446, 0.9160545431775446, 0.9160545431775446, 0.9160545431775446, 0.9160545431775446, 0.9160545431775446, 0.9160545431775446, 0.9160545431775446, 0.9160545431775446, 0.9160545431775446, 0.9173898739936212]}], \"precision_score_weighted\": [{\"categories\": [\"0\", \"1\", \"2\", \"3\", \"4\", \"5\", \"6\", \"7\", \"8\", \"9\", \"10\", \"11\", \"12\", \"13\", \"14\", \"15\", \"16\", \"17\", \"18\", \"19\", \"20\", \"21\", \"22\", \"23\", \"24\", \"25\", \"26\", \"27\", \"28\", \"29\", \"30\", \"31\", \"32\", \"33\"], \"mode\": \"markers\", \"name\": \"precision_score_weighted\", \"stepped\": false, \"type\": \"scatter\", \"data\": [0.9109133502052122, 0.9064686959258479, 0.8662908020487308, 0.7884581483963168, 0.9184658158940203, 0.8980491261330543, 0.8823488215419063, 0.8847205368709825, 0.8835020623680443, 0.8786110117135552, 0.8871348392945376, 0.8880256911299734, 0.8337902272762909, 0.7884581483963168, 0.8888070669926962, 0.9210465807181861, 0.7884581483963168, 0.8831375027733464, 0.8868497102152739, 0.8918759721609641, 0.8747495761153079, 0.8939804958653064, 0.9048873531474692, 0.7884581483963168, 0.8871222430970718, 0.7884581483963168, 0.7884581483963168, 0.8826735713696163, 0.8824769527440548, 0.899413505274672, 0.7884581483963168, 0.8836667745462629, 0.7884581483963168, 0.913408798937374]}, {\"categories\": [\"0\", \"1\", \"2\", \"3\", \"4\", \"5\", \"6\", \"7\", \"8\", \"9\", \"10\", \"11\", \"12\", \"13\", \"14\", \"15\", \"16\", \"17\", \"18\", \"19\", \"20\", \"21\", \"22\", \"23\", \"24\", \"25\", \"26\", \"27\", \"28\", \"29\", \"30\", \"31\", \"32\", \"33\"], \"mode\": \"lines\", \"name\": \"precision_score_weighted_max\", \"stepped\": true, \"type\": \"scatter\", \"data\": [0.9109133502052122, 0.9109133502052122, 0.9109133502052122, 0.9109133502052122, 0.9184658158940203, 0.9184658158940203, 0.9184658158940203, 0.9184658158940203, 0.9184658158940203, 0.9184658158940203, 0.9184658158940203, 0.9184658158940203, 0.9184658158940203, 0.9184658158940203, 0.9184658158940203, 0.9210465807181861, 0.9210465807181861, 0.9210465807181861, 0.9210465807181861, 0.9210465807181861, 0.9210465807181861, 0.9210465807181861, 0.9210465807181861, 0.9210465807181861, 0.9210465807181861, 0.9210465807181861, 0.9210465807181861, 0.9210465807181861, 0.9210465807181861, 0.9210465807181861, 0.9210465807181861, 0.9210465807181861, 0.9210465807181861, 0.9210465807181861]}], \"AUC_macro\": [{\"categories\": [\"0\", \"1\", \"2\", \"3\", \"4\", \"5\", \"6\", \"7\", \"8\", \"9\", \"10\", \"11\", \"12\", \"13\", \"14\", \"15\", \"16\", \"17\", \"18\", \"19\", \"20\", \"21\", \"22\", \"23\", \"24\", \"25\", \"26\", \"27\", \"28\", \"29\", \"30\", \"31\", \"32\", \"33\"], \"mode\": \"markers\", \"name\": \"AUC_macro\", \"stepped\": false, \"type\": \"scatter\", \"data\": [0.9491497762514485, 0.9467184257831902, 0.9124541474699598, 0.8564385723252487, 0.9306226681215843, 0.931636869391935, 0.9098004742938688, 0.8893727185322722, 0.8845737504351134, 0.8425219210178896, 0.9237572334145082, 0.9227799916834465, 0.9073762414461926, 0.889146665727369, 0.8627009541699727, 0.9328513942471135, 0.893248310139521, 0.9089142216119724, 0.8662781682473999, 0.9229645297656052, 0.8025154988007214, 0.8729729792493551, 0.9414553787426271, 0.8942768496504647, 0.8573827000657759, 0.9057666204982653, 0.9231728553167123, 0.9151201169638489, 0.9142871362243272, 0.9400346365289862, 0.9071887143485902, 0.9046505339281044, 0.9153222811786254, 0.9486045123039525]}, {\"categories\": [\"0\", \"1\", \"2\", \"3\", \"4\", \"5\", \"6\", \"7\", \"8\", \"9\", \"10\", \"11\", \"12\", \"13\", \"14\", \"15\", \"16\", \"17\", \"18\", \"19\", \"20\", \"21\", \"22\", \"23\", \"24\", \"25\", \"26\", \"27\", \"28\", \"29\", \"30\", \"31\", \"32\", \"33\"], \"mode\": \"lines\", \"name\": \"AUC_macro_max\", \"stepped\": true, \"type\": \"scatter\", \"data\": [0.9491497762514485, 0.9491497762514485, 0.9491497762514485, 0.9491497762514485, 0.9491497762514485, 0.9491497762514485, 0.9491497762514485, 0.9491497762514485, 0.9491497762514485, 0.9491497762514485, 0.9491497762514485, 0.9491497762514485, 0.9491497762514485, 0.9491497762514485, 0.9491497762514485, 0.9491497762514485, 0.9491497762514485, 0.9491497762514485, 0.9491497762514485, 0.9491497762514485, 0.9491497762514485, 0.9491497762514485, 0.9491497762514485, 0.9491497762514485, 0.9491497762514485, 0.9491497762514485, 0.9491497762514485, 0.9491497762514485, 0.9491497762514485, 0.9491497762514485, 0.9491497762514485, 0.9491497762514485, 0.9491497762514485, 0.9491497762514485]}], \"recall_score_macro\": [{\"categories\": [\"0\", \"1\", \"2\", \"3\", \"4\", \"5\", \"6\", \"7\", \"8\", \"9\", \"10\", \"11\", \"12\", \"13\", \"14\", \"15\", \"16\", \"17\", \"18\", \"19\", \"20\", \"21\", \"22\", \"23\", \"24\", \"25\", \"26\", \"27\", \"28\", \"29\", \"30\", \"31\", \"32\", \"33\"], \"mode\": \"markers\", \"name\": \"recall_score_macro\", \"stepped\": false, \"type\": \"scatter\", \"data\": [0.7544995930357585, 0.7315197315045925, 0.5219814548437975, 0.5, 0.854339904617253, 0.6953671968546628, 0.5856629250153216, 0.5852577215432748, 0.587854877612695, 0.7383829984078252, 0.6216462297450136, 0.6199975937492153, 0.5104140910791721, 0.5, 0.7697588172188093, 0.8691838887928759, 0.5, 0.5877772673621247, 0.7566636156000546, 0.6511493097866377, 0.725736124211907, 0.7836401589507375, 0.7225984468774331, 0.5, 0.5403323758037173, 0.5, 0.5, 0.5843587680641551, 0.5866526062789235, 0.7001067771232095, 0.5, 0.5886255316110383, 0.5, 0.7654500809352216]}, {\"categories\": [\"0\", \"1\", \"2\", \"3\", \"4\", \"5\", \"6\", \"7\", \"8\", \"9\", \"10\", \"11\", \"12\", \"13\", \"14\", \"15\", \"16\", \"17\", \"18\", \"19\", \"20\", \"21\", \"22\", \"23\", \"24\", \"25\", \"26\", \"27\", \"28\", \"29\", \"30\", \"31\", \"32\", \"33\"], \"mode\": \"lines\", \"name\": \"recall_score_macro_max\", \"stepped\": true, \"type\": \"scatter\", \"data\": [0.7544995930357585, 0.7544995930357585, 0.7544995930357585, 0.7544995930357585, 0.854339904617253, 0.854339904617253, 0.854339904617253, 0.854339904617253, 0.854339904617253, 0.854339904617253, 0.854339904617253, 0.854339904617253, 0.854339904617253, 0.854339904617253, 0.854339904617253, 0.8691838887928759, 0.8691838887928759, 0.8691838887928759, 0.8691838887928759, 0.8691838887928759, 0.8691838887928759, 0.8691838887928759, 0.8691838887928759, 0.8691838887928759, 0.8691838887928759, 0.8691838887928759, 0.8691838887928759, 0.8691838887928759, 0.8691838887928759, 0.8691838887928759, 0.8691838887928759, 0.8691838887928759, 0.8691838887928759, 0.8691838887928759]}], \"AUC_weighted\": [{\"categories\": [\"0\", \"1\", \"2\", \"3\", \"4\", \"5\", \"6\", \"7\", \"8\", \"9\", \"10\", \"11\", \"12\", \"13\", \"14\", \"15\", \"16\", \"17\", \"18\", \"19\", \"20\", \"21\", \"22\", \"23\", \"24\", \"25\", \"26\", \"27\", \"28\", \"29\", \"30\", \"31\", \"32\", \"33\"], \"mode\": \"markers\", \"name\": \"AUC_weighted\", \"stepped\": false, \"type\": \"scatter\", \"data\": [0.9491497762514486, 0.9467184257831901, 0.9124541474699598, 0.8564385723252487, 0.9306226681215843, 0.931636869391935, 0.9098004742938687, 0.8893727185322722, 0.8845737504351132, 0.8425219210178896, 0.9237572334145083, 0.9227799916834465, 0.9073762414461927, 0.889146665727369, 0.8627009541699727, 0.9328513942471135, 0.893248310139521, 0.9089142216119724, 0.8662781682473999, 0.9229645297656052, 0.8025154988007213, 0.8729729792493551, 0.9414553787426271, 0.8942768496504647, 0.8573827000657759, 0.9057666204982654, 0.9231728553167123, 0.9151201169638489, 0.9142871362243272, 0.9400346365289862, 0.9071887143485902, 0.9046505339281044, 0.9153222811786255, 0.9486045123039525]}, {\"categories\": [\"0\", \"1\", \"2\", \"3\", \"4\", \"5\", \"6\", \"7\", \"8\", \"9\", \"10\", \"11\", \"12\", \"13\", \"14\", \"15\", \"16\", \"17\", \"18\", \"19\", \"20\", \"21\", \"22\", \"23\", \"24\", \"25\", \"26\", \"27\", \"28\", \"29\", \"30\", \"31\", \"32\", \"33\"], \"mode\": \"lines\", \"name\": \"AUC_weighted_max\", \"stepped\": true, \"type\": \"scatter\", \"data\": [0.9491497762514486, 0.9491497762514486, 0.9491497762514486, 0.9491497762514486, 0.9491497762514486, 0.9491497762514486, 0.9491497762514486, 0.9491497762514486, 0.9491497762514486, 0.9491497762514486, 0.9491497762514486, 0.9491497762514486, 0.9491497762514486, 0.9491497762514486, 0.9491497762514486, 0.9491497762514486, 0.9491497762514486, 0.9491497762514486, 0.9491497762514486, 0.9491497762514486, 0.9491497762514486, 0.9491497762514486, 0.9491497762514486, 0.9491497762514486, 0.9491497762514486, 0.9491497762514486, 0.9491497762514486, 0.9491497762514486, 0.9491497762514486, 0.9491497762514486, 0.9491497762514486, 0.9491497762514486, 0.9491497762514486, 0.9491497762514486]}], \"f1_score_macro\": [{\"categories\": [\"0\", \"1\", \"2\", \"3\", \"4\", \"5\", \"6\", \"7\", \"8\", \"9\", \"10\", \"11\", \"12\", \"13\", \"14\", \"15\", \"16\", \"17\", \"18\", \"19\", \"20\", \"21\", \"22\", \"23\", \"24\", \"25\", \"26\", \"27\", \"28\", \"29\", \"30\", \"31\", \"32\", \"33\"], \"mode\": \"markers\", \"name\": \"f1_score_macro\", \"stepped\": false, \"type\": \"scatter\", \"data\": [0.7732167211430672, 0.7581669846973199, 0.5121163252044978, 0.4703252985108404, 0.755010367684488, 0.7282276307752411, 0.6163996414403128, 0.6167360987148554, 0.6199254553851969, 0.62587762117713, 0.6611040620875416, 0.6597838939243001, 0.4911906950565493, 0.4703252985108404, 0.6483363546330703, 0.7356263430914687, 0.4703252985108404, 0.6197364703628537, 0.607798039439851, 0.6903943731531982, 0.6117432232732412, 0.643542731635462, 0.7519858052042663, 0.4703252985108404, 0.5468092935523932, 0.4703252985108404, 0.4703252985108404, 0.6150208461793643, 0.6179824607669734, 0.7334090139352035, 0.4703252985108404, 0.6209532942154573, 0.4703252985108404, 0.7804983991738667]}, {\"categories\": [\"0\", \"1\", \"2\", \"3\", \"4\", \"5\", \"6\", \"7\", \"8\", \"9\", \"10\", \"11\", \"12\", \"13\", \"14\", \"15\", \"16\", \"17\", \"18\", \"19\", \"20\", \"21\", \"22\", \"23\", \"24\", \"25\", \"26\", \"27\", \"28\", \"29\", \"30\", \"31\", \"32\", \"33\"], \"mode\": \"lines\", \"name\": \"f1_score_macro_max\", \"stepped\": true, \"type\": \"scatter\", \"data\": [0.7732167211430672, 0.7732167211430672, 0.7732167211430672, 0.7732167211430672, 0.7732167211430672, 0.7732167211430672, 0.7732167211430672, 0.7732167211430672, 0.7732167211430672, 0.7732167211430672, 0.7732167211430672, 0.7732167211430672, 0.7732167211430672, 0.7732167211430672, 0.7732167211430672, 0.7732167211430672, 0.7732167211430672, 0.7732167211430672, 0.7732167211430672, 0.7732167211430672, 0.7732167211430672, 0.7732167211430672, 0.7732167211430672, 0.7732167211430672, 0.7732167211430672, 0.7732167211430672, 0.7732167211430672, 0.7732167211430672, 0.7732167211430672, 0.7732167211430672, 0.7732167211430672, 0.7732167211430672, 0.7732167211430672, 0.7804983991738667]}], \"weighted_accuracy\": [{\"categories\": [\"0\", \"1\", \"2\", \"3\", \"4\", \"5\", \"6\", \"7\", \"8\", \"9\", \"10\", \"11\", \"12\", \"13\", \"14\", \"15\", \"16\", \"17\", \"18\", \"19\", \"20\", \"21\", \"22\", \"23\", \"24\", \"25\", \"26\", \"27\", \"28\", \"29\", \"30\", \"31\", \"32\", \"33\"], \"mode\": \"markers\", \"name\": \"weighted_accuracy\", \"stepped\": false, \"type\": \"scatter\", \"data\": [0.95618479680174, 0.9594355156330352, 0.9837555114295522, 0.9843255146665979, 0.8720784426986414, 0.9620114303561251, 0.9772125066093573, 0.9785245213626553, 0.977612675298379, 0.7677982635591418, 0.973274765287631, 0.9742163855356599, 0.9838924313257122, 0.9843255146665979, 0.7803312383344335, 0.8389701424054379, 0.9843255146665979, 0.9774102755816426, 0.717083205822234, 0.969568125790351, 0.752361234350559, 0.7615008343618284, 0.9607444981804968, 0.9843255146665979, 0.9830704468269708, 0.9843255146665979, 0.9843255146665979, 0.9777665372825913, 0.9773092072665586, 0.9621256341306911, 0.9843255146665979, 0.9775371525825349, 0.9843255146665979, 0.955136500680288]}, {\"categories\": [\"0\", \"1\", \"2\", \"3\", \"4\", \"5\", \"6\", \"7\", \"8\", \"9\", \"10\", \"11\", \"12\", \"13\", \"14\", \"15\", \"16\", \"17\", \"18\", \"19\", \"20\", \"21\", \"22\", \"23\", \"24\", \"25\", \"26\", \"27\", \"28\", \"29\", \"30\", \"31\", \"32\", \"33\"], \"mode\": \"lines\", \"name\": \"weighted_accuracy_max\", \"stepped\": true, \"type\": \"scatter\", \"data\": [0.95618479680174, 0.9594355156330352, 0.9837555114295522, 0.9843255146665979, 0.9843255146665979, 0.9843255146665979, 0.9843255146665979, 0.9843255146665979, 0.9843255146665979, 0.9843255146665979, 0.9843255146665979, 0.9843255146665979, 0.9843255146665979, 0.9843255146665979, 0.9843255146665979, 0.9843255146665979, 0.9843255146665979, 0.9843255146665979, 0.9843255146665979, 0.9843255146665979, 0.9843255146665979, 0.9843255146665979, 0.9843255146665979, 0.9843255146665979, 0.9843255146665979, 0.9843255146665979, 0.9843255146665979, 0.9843255146665979, 0.9843255146665979, 0.9843255146665979, 0.9843255146665979, 0.9843255146665979, 0.9843255146665979, 0.9843255146665979]}], \"average_precision_score_macro\": [{\"categories\": [\"0\", \"1\", \"2\", \"3\", \"4\", \"5\", \"6\", \"7\", \"8\", \"9\", \"10\", \"11\", \"12\", \"13\", \"14\", \"15\", \"16\", \"17\", \"18\", \"19\", \"20\", \"21\", \"22\", \"23\", \"24\", \"25\", \"26\", \"27\", \"28\", \"29\", \"30\", \"31\", \"32\", \"33\"], \"mode\": \"markers\", \"name\": \"average_precision_score_macro\", \"stepped\": false, \"type\": \"scatter\", \"data\": [0.8258026455770678, 0.8251867964117309, 0.7580504102219215, 0.691280846560472, 0.7840198750955798, 0.7831694411573097, 0.7523025568493693, 0.744894280945592, 0.7362209735698576, 0.7084113012331434, 0.7804321850049172, 0.7792158781816243, 0.754172009072464, 0.7065311085505459, 0.7020721816062647, 0.7801836385736174, 0.7336223089099363, 0.7505564278782253, 0.7174077054011838, 0.7875537104337257, 0.6965869634430625, 0.7181465180515708, 0.8181282515221278, 0.7252839809728644, 0.7256169360744839, 0.748071238684626, 0.7774988294039131, 0.7561240718579705, 0.7546828726967473, 0.8057788284682095, 0.7488008394003733, 0.7574552899410198, 0.7453841731780957, 0.8266478296315833]}, {\"categories\": [\"0\", \"1\", \"2\", \"3\", \"4\", \"5\", \"6\", \"7\", \"8\", \"9\", \"10\", \"11\", \"12\", \"13\", \"14\", \"15\", \"16\", \"17\", \"18\", \"19\", \"20\", \"21\", \"22\", \"23\", \"24\", \"25\", \"26\", \"27\", \"28\", \"29\", \"30\", \"31\", \"32\", \"33\"], \"mode\": \"lines\", \"name\": \"average_precision_score_macro_max\", \"stepped\": true, \"type\": \"scatter\", \"data\": [0.8258026455770678, 0.8258026455770678, 0.8258026455770678, 0.8258026455770678, 0.8258026455770678, 0.8258026455770678, 0.8258026455770678, 0.8258026455770678, 0.8258026455770678, 0.8258026455770678, 0.8258026455770678, 0.8258026455770678, 0.8258026455770678, 0.8258026455770678, 0.8258026455770678, 0.8258026455770678, 0.8258026455770678, 0.8258026455770678, 0.8258026455770678, 0.8258026455770678, 0.8258026455770678, 0.8258026455770678, 0.8258026455770678, 0.8258026455770678, 0.8258026455770678, 0.8258026455770678, 0.8258026455770678, 0.8258026455770678, 0.8258026455770678, 0.8258026455770678, 0.8258026455770678, 0.8258026455770678, 0.8258026455770678, 0.8266478296315833]}], \"recall_score_weighted\": [{\"categories\": [\"0\", \"1\", \"2\", \"3\", \"4\", \"5\", \"6\", \"7\", \"8\", \"9\", \"10\", \"11\", \"12\", \"13\", \"14\", \"15\", \"16\", \"17\", \"18\", \"19\", \"20\", \"21\", \"22\", \"23\", \"24\", \"25\", \"26\", \"27\", \"28\", \"29\", \"30\", \"31\", \"32\", \"33\"], \"mode\": \"markers\", \"name\": \"recall_score_weighted\", \"stepped\": false, \"type\": \"scatter\", \"data\": [0.9160545431775446, 0.9140818664931945, 0.8918664620993926, 0.8879514337968327, 0.8685281828807733, 0.9089528592186271, 0.8993020128416469, 0.9002731775980001, 0.9000606884484864, 0.7619421259947071, 0.9033079905528743, 0.9037329246408954, 0.8896814362670491, 0.8879514337968327, 0.7782401892903081, 0.844977281879621, 0.8879514337968327, 0.8998785869973721, 0.7249767398526825, 0.9062215990337006, 0.747071385566751, 0.7659180144318283, 0.9133535380579985, 0.8879514337968327, 0.8949620283455625, 0.8879514337968327, 0.8879514337968327, 0.8994840848187569, 0.8995751410706898, 0.909984825161533, 0.8879514337968327, 0.9001517594374214, 0.8879514337968327, 0.9173898739936212]}, {\"categories\": [\"0\", \"1\", \"2\", \"3\", \"4\", \"5\", \"6\", \"7\", \"8\", \"9\", \"10\", \"11\", \"12\", \"13\", \"14\", \"15\", \"16\", \"17\", \"18\", \"19\", \"20\", \"21\", \"22\", \"23\", \"24\", \"25\", \"26\", \"27\", \"28\", \"29\", \"30\", \"31\", \"32\", \"33\"], \"mode\": \"lines\", \"name\": \"recall_score_weighted_max\", \"stepped\": true, \"type\": \"scatter\", \"data\": [0.9160545431775446, 0.9160545431775446, 0.9160545431775446, 0.9160545431775446, 0.9160545431775446, 0.9160545431775446, 0.9160545431775446, 0.9160545431775446, 0.9160545431775446, 0.9160545431775446, 0.9160545431775446, 0.9160545431775446, 0.9160545431775446, 0.9160545431775446, 0.9160545431775446, 0.9160545431775446, 0.9160545431775446, 0.9160545431775446, 0.9160545431775446, 0.9160545431775446, 0.9160545431775446, 0.9160545431775446, 0.9160545431775446, 0.9160545431775446, 0.9160545431775446, 0.9160545431775446, 0.9160545431775446, 0.9160545431775446, 0.9160545431775446, 0.9160545431775446, 0.9160545431775446, 0.9160545431775446, 0.9160545431775446, 0.9173898739936212]}], \"precision_score_macro\": [{\"categories\": [\"0\", \"1\", \"2\", \"3\", \"4\", \"5\", \"6\", \"7\", \"8\", \"9\", \"10\", \"11\", \"12\", \"13\", \"14\", \"15\", \"16\", \"17\", \"18\", \"19\", \"20\", \"21\", \"22\", \"23\", \"24\", \"25\", \"26\", \"27\", \"28\", \"29\", \"30\", \"31\", \"32\", \"33\"], \"mode\": \"markers\", \"name\": \"precision_score_macro\", \"stepped\": false, \"type\": \"scatter\", \"data\": [0.7967779352306913, 0.7962222931017817, 0.7752750188401817, 0.44397571689841636, 0.7160392250734913, 0.7875683788174093, 0.8020797932687895, 0.8130367185682911, 0.8056881090472977, 0.6167048315808922, 0.7967424203639155, 0.801995669194258, 0.6386925928875976, 0.44397571689841636, 0.6337008294499094, 0.6988289028364257, 0.44397571689841636, 0.8041025488225714, 0.6135954320508071, 0.7951322465145408, 0.6077556998110035, 0.6335365938710361, 0.7965376034777062, 0.44397571689841636, 0.8560229188509957, 0.44397571689841636, 0.44397571689841636, 0.8045440902244103, 0.8019501729673981, 0.7901315990942372, 0.44397571689841636, 0.8058419453156065, 0.44397571689841636, 0.7987154904015565]}, {\"categories\": [\"0\", \"1\", \"2\", \"3\", \"4\", \"5\", \"6\", \"7\", \"8\", \"9\", \"10\", \"11\", \"12\", \"13\", \"14\", \"15\", \"16\", \"17\", \"18\", \"19\", \"20\", \"21\", \"22\", \"23\", \"24\", \"25\", \"26\", \"27\", \"28\", \"29\", \"30\", \"31\", \"32\", \"33\"], \"mode\": \"lines\", \"name\": \"precision_score_macro_max\", \"stepped\": true, \"type\": \"scatter\", \"data\": [0.7967779352306913, 0.7967779352306913, 0.7967779352306913, 0.7967779352306913, 0.7967779352306913, 0.7967779352306913, 0.8020797932687895, 0.8130367185682911, 0.8130367185682911, 0.8130367185682911, 0.8130367185682911, 0.8130367185682911, 0.8130367185682911, 0.8130367185682911, 0.8130367185682911, 0.8130367185682911, 0.8130367185682911, 0.8130367185682911, 0.8130367185682911, 0.8130367185682911, 0.8130367185682911, 0.8130367185682911, 0.8130367185682911, 0.8130367185682911, 0.8560229188509957, 0.8560229188509957, 0.8560229188509957, 0.8560229188509957, 0.8560229188509957, 0.8560229188509957, 0.8560229188509957, 0.8560229188509957, 0.8560229188509957, 0.8560229188509957]}], \"precision_score_micro\": [{\"categories\": [\"0\", \"1\", \"2\", \"3\", \"4\", \"5\", \"6\", \"7\", \"8\", \"9\", \"10\", \"11\", \"12\", \"13\", \"14\", \"15\", \"16\", \"17\", \"18\", \"19\", \"20\", \"21\", \"22\", \"23\", \"24\", \"25\", \"26\", \"27\", \"28\", \"29\", \"30\", \"31\", \"32\", \"33\"], \"mode\": \"markers\", \"name\": \"precision_score_micro\", \"stepped\": false, \"type\": \"scatter\", \"data\": [0.9160545431775446, 0.9140818664931945, 0.8918664620993926, 0.8879514337968327, 0.8685281828807733, 0.9089528592186271, 0.8993020128416469, 0.9002731775980001, 0.9000606884484864, 0.7619421259947071, 0.9033079905528743, 0.9037329246408954, 0.8896814362670491, 0.8879514337968327, 0.7782401892903081, 0.844977281879621, 0.8879514337968327, 0.8998785869973721, 0.7249767398526825, 0.9062215990337006, 0.747071385566751, 0.7659180144318283, 0.9133535380579985, 0.8879514337968327, 0.8949620283455625, 0.8879514337968327, 0.8879514337968327, 0.8994840848187569, 0.8995751410706898, 0.909984825161533, 0.8879514337968327, 0.9001517594374214, 0.8879514337968327, 0.9173898739936212]}, {\"categories\": [\"0\", \"1\", \"2\", \"3\", \"4\", \"5\", \"6\", \"7\", \"8\", \"9\", \"10\", \"11\", \"12\", \"13\", \"14\", \"15\", \"16\", \"17\", \"18\", \"19\", \"20\", \"21\", \"22\", \"23\", \"24\", \"25\", \"26\", \"27\", \"28\", \"29\", \"30\", \"31\", \"32\", \"33\"], \"mode\": \"lines\", \"name\": \"precision_score_micro_max\", \"stepped\": true, \"type\": \"scatter\", \"data\": [0.9160545431775446, 0.9160545431775446, 0.9160545431775446, 0.9160545431775446, 0.9160545431775446, 0.9160545431775446, 0.9160545431775446, 0.9160545431775446, 0.9160545431775446, 0.9160545431775446, 0.9160545431775446, 0.9160545431775446, 0.9160545431775446, 0.9160545431775446, 0.9160545431775446, 0.9160545431775446, 0.9160545431775446, 0.9160545431775446, 0.9160545431775446, 0.9160545431775446, 0.9160545431775446, 0.9160545431775446, 0.9160545431775446, 0.9160545431775446, 0.9160545431775446, 0.9160545431775446, 0.9160545431775446, 0.9160545431775446, 0.9160545431775446, 0.9160545431775446, 0.9160545431775446, 0.9160545431775446, 0.9160545431775446, 0.9173898739936212]}]}, \"metricName\": null, \"primaryMetricName\": \"accuracy\", \"showLegend\": false}, \"run_metrics\": [{\"name\": \"experiment_status\", \"run_id\": \"AutoML_46c483d1-9fd0-4507-9bd1-daba873a4996\", \"categories\": [0, 1, 2, 3, 4, 5, 6, 7, 8, 9, 10, 11, 12, 13, 14], \"series\": [{\"data\": [\"DatasetEvaluation\", \"FeaturesGeneration\", \"DatasetFeaturization\", \"DatasetFeaturizationCompleted\", \"DatasetBalancing\", \"DatasetCrossValidationSplit\", \"ModelSelection\", \"BestRunExplainModel\", \"ModelExplanationDataSetSetup\", \"PickSurrogateModel\", \"EngineeredFeatureExplanations\", \"EngineeredFeatureExplanations\", \"RawFeaturesExplanations\", \"RawFeaturesExplanations\", \"BestRunExplainModel\"]}]}, {\"name\": \"experiment_status_description\", \"run_id\": \"AutoML_46c483d1-9fd0-4507-9bd1-daba873a4996\", \"categories\": [0, 1, 2, 3, 4, 5, 6, 7, 8, 9, 10, 11, 12, 13, 14], \"series\": [{\"data\": [\"Gathering dataset statistics.\", \"Generating features for the dataset.\", \"Beginning to fit featurizers and featurize the dataset.\", \"Completed fit featurizers and featurizing the dataset.\", \"Performing class balancing sweeping\", \"Generating individually featurized CV splits.\", \"Beginning model selection.\", \"Best run model explanations started\", \"Model explanations data setup completed\", \"Choosing LightGBM as the surrogate model for explanations\", \"Computation of engineered features started\", \"Computation of engineered features completed\", \"Computation of raw features started\", \"Computation of raw features completed\", \"Best run model explanations completed\"]}]}, {\"name\": \"matthews_correlation\", \"run_id\": \"AutoML_46c483d1-9fd0-4507-9bd1-daba873a4996\", \"categories\": [0], \"series\": [{\"data\": [0.5630372068754274]}]}, {\"name\": \"f1_score_micro\", \"run_id\": \"AutoML_46c483d1-9fd0-4507-9bd1-daba873a4996\", \"categories\": [0], \"series\": [{\"data\": [0.9173898739936212]}]}, {\"name\": \"log_loss\", \"run_id\": \"AutoML_46c483d1-9fd0-4507-9bd1-daba873a4996\", \"categories\": [0], \"series\": [{\"data\": [0.19951606798043883]}]}, {\"name\": \"balanced_accuracy\", \"run_id\": \"AutoML_46c483d1-9fd0-4507-9bd1-daba873a4996\", \"categories\": [0], \"series\": [{\"data\": [0.7654500809352216]}]}, {\"name\": \"norm_macro_recall\", \"run_id\": \"AutoML_46c483d1-9fd0-4507-9bd1-daba873a4996\", \"categories\": [0], \"series\": [{\"data\": [0.5309001618704432]}]}, {\"name\": \"recall_score_micro\", \"run_id\": \"AutoML_46c483d1-9fd0-4507-9bd1-daba873a4996\", \"categories\": [0], \"series\": [{\"data\": [0.9173898739936212]}]}, {\"name\": \"average_precision_score_micro\", \"run_id\": \"AutoML_46c483d1-9fd0-4507-9bd1-daba873a4996\", \"categories\": [0], \"series\": [{\"data\": [0.9817418140296138]}]}, {\"name\": \"AUC_micro\", \"run_id\": \"AutoML_46c483d1-9fd0-4507-9bd1-daba873a4996\", \"categories\": [0], \"series\": [{\"data\": [0.9810394803477298]}]}, {\"name\": \"average_precision_score_weighted\", \"run_id\": \"AutoML_46c483d1-9fd0-4507-9bd1-daba873a4996\", \"categories\": [0], \"series\": [{\"data\": [0.9559073744703266]}]}, {\"name\": \"f1_score_weighted\", \"run_id\": \"AutoML_46c483d1-9fd0-4507-9bd1-daba873a4996\", \"categories\": [0], \"series\": [{\"data\": [0.9149939553958534]}]}, {\"name\": \"accuracy\", \"run_id\": \"AutoML_46c483d1-9fd0-4507-9bd1-daba873a4996\", \"categories\": [0], \"series\": [{\"data\": [0.9173898739936212]}]}, {\"name\": \"precision_score_weighted\", \"run_id\": \"AutoML_46c483d1-9fd0-4507-9bd1-daba873a4996\", \"categories\": [0], \"series\": [{\"data\": [0.913408798937374]}]}, {\"name\": \"AUC_macro\", \"run_id\": \"AutoML_46c483d1-9fd0-4507-9bd1-daba873a4996\", \"categories\": [0], \"series\": [{\"data\": [0.9486045123039525]}]}, {\"name\": \"recall_score_macro\", \"run_id\": \"AutoML_46c483d1-9fd0-4507-9bd1-daba873a4996\", \"categories\": [0], \"series\": [{\"data\": [0.7654500809352216]}]}, {\"name\": \"AUC_weighted\", \"run_id\": \"AutoML_46c483d1-9fd0-4507-9bd1-daba873a4996\", \"categories\": [0], \"series\": [{\"data\": [0.9486045123039525]}]}, {\"name\": \"f1_score_macro\", \"run_id\": \"AutoML_46c483d1-9fd0-4507-9bd1-daba873a4996\", \"categories\": [0], \"series\": [{\"data\": [0.7804983991738667]}]}, {\"name\": \"weighted_accuracy\", \"run_id\": \"AutoML_46c483d1-9fd0-4507-9bd1-daba873a4996\", \"categories\": [0], \"series\": [{\"data\": [0.955136500680288]}]}, {\"name\": \"average_precision_score_macro\", \"run_id\": \"AutoML_46c483d1-9fd0-4507-9bd1-daba873a4996\", \"categories\": [0], \"series\": [{\"data\": [0.8266478296315833]}]}, {\"name\": \"recall_score_weighted\", \"run_id\": \"AutoML_46c483d1-9fd0-4507-9bd1-daba873a4996\", \"categories\": [0], \"series\": [{\"data\": [0.9173898739936212]}]}, {\"name\": \"precision_score_macro\", \"run_id\": \"AutoML_46c483d1-9fd0-4507-9bd1-daba873a4996\", \"categories\": [0], \"series\": [{\"data\": [0.7987154904015565]}]}, {\"name\": \"precision_score_micro\", \"run_id\": \"AutoML_46c483d1-9fd0-4507-9bd1-daba873a4996\", \"categories\": [0], \"series\": [{\"data\": [0.9173898739936212]}]}], \"run_logs\": \"\\nRun is completed.\", \"graph\": {}, \"widget_settings\": {\"childWidgetDisplay\": \"popup\", \"send_telemetry\": false, \"log_level\": \"INFO\", \"sdk_version\": \"1.18.0\"}, \"loading\": false}"
          },
          "metadata": {}
        }
      ],
      "execution_count": 10,
      "metadata": {
        "gather": {
          "logged": 1606335440833
        }
      }
    },
    {
      "cell_type": "code",
      "source": [
        "from azureml.automl.runtime.onnx_convert import OnnxConverter\r\n",
        "file_path = \"./best_model.onnx\"\r\n",
        "OnnxConverter.save_onnx_model(fitted_model, file_path)"
      ],
      "outputs": [],
      "execution_count": 12,
      "metadata": {
        "collapsed": true,
        "jupyter": {
          "source_hidden": false,
          "outputs_hidden": false
        },
        "nteract": {
          "transient": {
            "deleting": false
          }
        },
        "gather": {
          "logged": 1606335555112
        }
      }
    },
    {
      "cell_type": "code",
      "execution_count": null,
      "metadata": {},
      "outputs": [],
      "source": [
        "cpu_cluster.delete()"
      ]
    }
  ],
  "metadata": {
    "kernel_info": {
      "name": "python3"
    },
    "kernelspec": {
      "name": "python3",
      "language": "python",
      "display_name": "Python 3"
    },
    "language_info": {
      "name": "python",
      "version": "3.7.4-final",
      "mimetype": "text/x-python",
      "codemirror_mode": {
        "name": "ipython",
        "version": 3
      },
      "pygments_lexer": "ipython3",
      "nbconvert_exporter": "python",
      "file_extension": ".py"
    },
    "nteract": {
      "version": "nteract-front-end@1.0.0"
    }
  },
  "nbformat": 4,
  "nbformat_minor": 4
}