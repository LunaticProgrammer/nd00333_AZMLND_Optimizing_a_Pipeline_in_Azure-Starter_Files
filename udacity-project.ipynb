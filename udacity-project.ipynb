{
 "cells": [
  {
   "cell_type": "code",
   "execution_count": 43,
   "metadata": {
    "gather": {
     "logged": 1605820776605
    }
   },
   "outputs": [
    {
     "name": "stdout",
     "output_type": "stream",
     "text": [
      "Workspace name: quick-starts-ws-126931\n",
      "Azure region: southcentralus\n",
      "Subscription id: e8f628b3-bb5b-4edf-947a-8637ca6ea7c2\n",
      "Resource group: aml-quickstarts-126931\n"
     ]
    }
   ],
   "source": [
    "from azureml.core import Workspace, Experiment\n",
    "\n",
    "ws = Workspace.get(name=\"quick-starts-ws-126931\")\n",
    "exp = Experiment(workspace=ws, name=\"quick-starts-ws-126931\")\n",
    "\n",
    "print('Workspace name: ' + ws.name, \n",
    "      'Azure region: ' + ws.location, \n",
    "      'Subscription id: ' + ws.subscription_id, \n",
    "      'Resource group: ' + ws.resource_group, sep = '\\n')\n",
    "\n",
    "run = exp.start_logging()"
   ]
  },
  {
   "cell_type": "code",
   "execution_count": 44,
   "metadata": {
    "collapsed": false,
    "gather": {
     "logged": 1605820791435
    },
    "jupyter": {
     "outputs_hidden": false,
     "source_hidden": false
    },
    "nteract": {
     "transient": {
      "deleting": false
     }
    }
   },
   "outputs": [
    {
     "name": "stdout",
     "output_type": "stream",
     "text": [
      "Found existing cluster, use it.\n",
      "\n",
      "Running\n"
     ]
    }
   ],
   "source": [
    "from azureml.core.compute import ComputeTarget, AmlCompute\n",
    "\n",
    "# TODO: Create compute cluster\n",
    "# Use vm_size = \"Standard_D2_V2\" in your provisioning configuration.\n",
    "# max_nodes should be no greater than 4.\n",
    "\n",
    "### YOUR CODE HERE ###\n",
    "from azureml.core.compute_target import ComputeTargetException\n",
    "\n",
    "   # Choose a name for your CPU cluster\n",
    "cpu_cluster_name = \"cpu-cluster\"\n",
    "\n",
    "   # Verify that cluster does not exist already\n",
    "try:\n",
    "    cpu_cluster = ComputeTarget(workspace=ws, name=cpu_cluster_name)\n",
    "    print('Found existing cluster, use it.')\n",
    "except ComputeTargetException:\n",
    "    compute_config = AmlCompute.provisioning_configuration(vm_size='STANDARD_D2_V2',\n",
    "                                                              max_nodes=4)\n",
    "    cpu_cluster = ComputeTarget.create(ws, cpu_cluster_name, compute_config)\n",
    "\n",
    "cpu_cluster.wait_for_completion(show_output=True)"
   ]
  },
  {
   "cell_type": "code",
   "execution_count": 58,
   "metadata": {
    "collapsed": false,
    "gather": {
     "logged": 1605465746820
    },
    "jupyter": {
     "outputs_hidden": false,
     "source_hidden": false
    },
    "nteract": {
     "transient": {
      "deleting": false
     }
    }
   },
   "outputs": [],
   "source": [
    "from azureml.widgets import RunDetails\n",
    "from azureml.train.sklearn import SKLearn\n",
    "from azureml.train.hyperdrive.run import PrimaryMetricGoal\n",
    "from azureml.train.hyperdrive.policy import BanditPolicy\n",
    "from azureml.train.hyperdrive.sampling import RandomParameterSampling\n",
    "from azureml.train.hyperdrive.runconfig import HyperDriveConfig\n",
    "from azureml.train.hyperdrive.parameter_expressions import uniform,loguniform,choice\n",
    "import os\n",
    "\n",
    "# Specify parameter sampler\n",
    "ps = RandomParameterSampling({\n",
    "    \"--C\": choice(0.5,1,1.5),\n",
    "    \"--max_iter\":choice(100,150,125)\n",
    "})\n",
    "\n",
    "# Specify a Policy\n",
    "policy = BanditPolicy(slack_factor=0.1,evaluation_interval=1,delay_evaluation=5)\n",
    "\n",
    "if \"training\" not in os.listdir():\n",
    "    os.mkdir(\"./training\")\n",
    "\n",
    "# Create a SKLearn estimator for use with train.py\n",
    "est = SKLearn(\n",
    "            source_directory = \".\",\n",
    "            compute_target = cpu_cluster_name,\n",
    "            entry_script='train.py',\n",
    "        )\n",
    "\n",
    "# Create a HyperDriveConfig using the estimator, hyperparameter sampler, and policy.\n",
    "hyperdrive_config = HyperDriveConfig(\n",
    "                        estimator=est,\n",
    "                        hyperparameter_sampling=ps,\n",
    "                        policy=policy,\n",
    "                        primary_metric_name=\"Accuracy\",\n",
    "                        primary_metric_goal=PrimaryMetricGoal.MAXIMIZE,\n",
    "                        max_total_runs=10,\n",
    "                        max_concurrent_runs=4\n",
    "                    )"
   ]
  },
  {
   "cell_type": "code",
   "execution_count": 7,
   "metadata": {
    "gather": {
     "logged": 1605465755224
    }
   },
   "outputs": [
    {
     "name": "stderr",
     "output_type": "stream",
     "text": [
      "WARNING - If 'script' has been provided here and a script file name has been specified in 'run_config', 'script' provided in ScriptRunConfig initialization will take precedence.\n"
     ]
    }
   ],
   "source": [
    "# Submit your hyperdrive run to the experiment and show run details with the widget.\n",
    "experiment = Experiment(workspace=ws,name=\"hyperdrive_experiment\")\n",
    "hyper_run = experiment.submit(hyperdrive_config)\n",
    "### YOUR CODE HERE ###"
   ]
  },
  {
   "cell_type": "code",
   "execution_count": 14,
   "metadata": {
    "collapsed": false,
    "gather": {
     "logged": 1605812589509
    },
    "jupyter": {
     "outputs_hidden": false,
     "source_hidden": false
    },
    "nteract": {
     "transient": {
      "deleting": false
     }
    }
   },
   "outputs": [
    {
     "data": {
      "text/plain": [
       "['best_run_hyperdrive']"
      ]
     },
     "execution_count": 14,
     "metadata": {},
     "output_type": "execute_result"
    }
   ],
   "source": [
    "import joblib\n",
    "# Get your best run and save the model from that run.\n",
    "best_run = hyper_run.get_best_run_by_primary_metric().get_metrics()\n",
    "joblib.dump(best_run,'best_run_hyperdrive')\n",
    "### YOUR CODE HERE ###"
   ]
  },
  {
   "cell_type": "code",
   "execution_count": 45,
   "metadata": {
    "gather": {
     "logged": 1605820806007
    }
   },
   "outputs": [
    {
     "name": "stdout",
     "output_type": "stream",
     "text": [
      "       age          job  marital          education  default housing loan  \\\n",
      "0       57   technician  married        high.school       no      no  yes   \n",
      "1       55      unknown  married            unknown  unknown     yes   no   \n",
      "2       33  blue-collar  married           basic.9y       no      no   no   \n",
      "3       36       admin.  married        high.school       no      no   no   \n",
      "4       27    housemaid  married        high.school       no     yes   no   \n",
      "...    ...          ...      ...                ...      ...     ...  ...   \n",
      "32945   56    housemaid  married           basic.4y       no      no  yes   \n",
      "32946   37   management  married  university.degree       no      no  yes   \n",
      "32947   26       admin.   single  university.degree       no      no   no   \n",
      "32948   31  blue-collar   single           basic.9y       no      no   no   \n",
      "32949   39    housemaid  married           basic.4y       no      no   no   \n",
      "\n",
      "         contact month day_of_week  ...  campaign  pdays  previous  \\\n",
      "0       cellular   may         mon  ...         1    999         1   \n",
      "1      telephone   may         thu  ...         2    999         0   \n",
      "2       cellular   may         fri  ...         1    999         1   \n",
      "3      telephone   jun         fri  ...         4    999         0   \n",
      "4       cellular   jul         fri  ...         2    999         0   \n",
      "...          ...   ...         ...  ...       ...    ...       ...   \n",
      "32945   cellular   jul         mon  ...         1    999         0   \n",
      "32946   cellular   jul         fri  ...         7    999         0   \n",
      "32947   cellular   may         tue  ...         4    999         1   \n",
      "32948   cellular   apr         mon  ...         1    999         0   \n",
      "32949   cellular   aug         thu  ...         1    999         0   \n",
      "\n",
      "          poutcome emp.var.rate  cons.price.idx  cons.conf.idx  euribor3m  \\\n",
      "0          failure        -1.80           92.89         -46.20       1.30   \n",
      "1      nonexistent         1.10           93.99         -36.40       4.86   \n",
      "2          failure        -1.80           92.89         -46.20       1.31   \n",
      "3      nonexistent         1.40           94.47         -41.80       4.97   \n",
      "4      nonexistent         1.40           93.92         -42.70       4.96   \n",
      "...            ...          ...             ...            ...        ...   \n",
      "32945  nonexistent         1.40           93.92         -42.70       4.96   \n",
      "32946  nonexistent         1.40           93.92         -42.70       4.96   \n",
      "32947      failure        -1.80           92.89         -46.20       1.27   \n",
      "32948  nonexistent        -1.80           93.08         -47.10       1.41   \n",
      "32949  nonexistent         1.40           93.44         -36.10       4.96   \n",
      "\n",
      "       nr.employed   y  \n",
      "0          5099.10  no  \n",
      "1          5191.00  no  \n",
      "2          5099.10  no  \n",
      "3          5228.10  no  \n",
      "4          5228.10  no  \n",
      "...            ...  ..  \n",
      "32945      5228.10  no  \n",
      "32946      5228.10  no  \n",
      "32947      5099.10  no  \n",
      "32948      5099.10  no  \n",
      "32949      5228.10  no  \n",
      "\n",
      "[32950 rows x 21 columns]\n"
     ]
    }
   ],
   "source": [
    "from azureml.data.dataset_factory import TabularDatasetFactory\n",
    "\n",
    "# Create TabularDataset using TabularDatasetFactory\n",
    "# Data is available at: \n",
    "# \"https://automlsamplenotebookdata.blob.core.windows.net/automl-sample-notebook-data/bankmarketing_train.csv\"\n",
    "\n",
    "automlds = TabularDatasetFactory.from_delimited_files(\"https://automlsamplenotebookdata.blob.core.windows.net/automl-sample-notebook-data/bankmarketing_train.csv\")\n",
    "ds = automlds.to_pandas_dataframe()\n",
    "print(ds)\n",
    "### YOUR CODE HERE ###"
   ]
  },
  {
   "cell_type": "code",
   "execution_count": 60,
   "metadata": {
    "collapsed": false,
    "gather": {
     "logged": 1605820859448
    },
    "jupyter": {
     "outputs_hidden": false,
     "source_hidden": false
    },
    "nteract": {
     "transient": {
      "deleting": false
     }
    }
   },
   "outputs": [],
   "source": [
    "from train import clean_data\n",
    "from sklearn.model_selection import train_test_split\n",
    "import pandas as pd\n",
    "\n",
    "# Use the clean_data function to clean your data."
   ]
  },
  {
   "cell_type": "code",
   "execution_count": 61,
   "metadata": {
    "collapsed": false,
    "gather": {
     "logged": 1605820480382
    },
    "jupyter": {
     "outputs_hidden": false,
     "source_hidden": false
    },
    "nteract": {
     "transient": {
      "deleting": false
     }
    }
   },
   "outputs": [],
   "source": [
    "from azureml.train.automl import AutoMLConfig\n",
    "\n",
    "# Set parameters for AutoMLConfig\n",
    "# NOTE: DO NOT CHANGE THE experiment_timeout_minutes PARAMETER OR YOUR INSTANCE WILL TIME OUT.\n",
    "# If you wish to run the experiment longer, you will need to run this notebook in your own\n",
    "# Azure tenant, which will incur personal costs.\n",
    "automl_config = AutoMLConfig(\n",
    "    experiment_timeout_minutes=20,\n",
    "    task='classification',\n",
    "    primary_metric='accuracy',\n",
    "    training_data=ds,\n",
    "    label_column_name=\"y\",\n",
    "    n_cross_validations=4)"
   ]
  },
  {
   "cell_type": "code",
   "execution_count": null,
   "metadata": {
    "collapsed": false,
    "jupyter": {
     "outputs_hidden": false,
     "source_hidden": false
    },
    "nteract": {
     "transient": {
      "deleting": false
     }
    }
   },
   "outputs": [
    {
     "name": "stderr",
     "output_type": "stream",
     "text": [
      "WARNING - Running on local machine. Note that local runs always run synchronously even if you use the parameter 'show_output=False'\n"
     ]
    }
   ],
   "source": [
    "# Submit your automl run\n",
    "experiment = Experiment(workspace=ws,name=\"automl-run\")\n",
    "automl_run = experiment.submit(automl_config)\n",
    "### YOUR CODE HERE ###"
   ]
  },
  {
   "cell_type": "code",
   "execution_count": null,
   "metadata": {},
   "outputs": [],
   "source": [
    "# Retrieve and save your best automl model.\n",
    "\n",
    "### YOUR CODE HERE ###"
   ]
  }
 ],
 "metadata": {
  "kernel_info": {
   "name": "python3"
  },
  "kernelspec": {
   "display_name": "Python 3",
   "language": "python",
   "name": "python3"
  },
  "language_info": {
   "codemirror_mode": {
    "name": "ipython",
    "version": 3
   },
   "file_extension": ".py",
   "mimetype": "text/x-python",
   "name": "python",
   "nbconvert_exporter": "python",
   "pygments_lexer": "ipython3",
   "version": "3.6.9"
  },
  "nteract": {
   "version": "nteract-front-end@1.0.0"
  }
 },
 "nbformat": 4,
 "nbformat_minor": 4
}
